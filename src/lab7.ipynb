{
  "metadata": {
    "kernelspec": {
      "display_name": "Python 3",
      "name": "python3"
    },
    "language_info": {
      "name": "python",
      "version": "3.7.10",
      "mimetype": "text/x-python",
      "codemirror_mode": {
        "name": "ipython",
        "version": 3
      },
      "pygments_lexer": "ipython3",
      "nbconvert_exporter": "python",
      "file_extension": ".py"
    },
    "colab": {
      "provenance": [],
      "gpuType": "T4"
    },
    "accelerator": "GPU",
    "widgets": {
      "application/vnd.jupyter.widget-state+json": {
        "091b6a55565e407e93c29d42ec380269": {
          "model_module": "@jupyter-widgets/controls",
          "model_name": "HBoxModel",
          "model_module_version": "1.5.0",
          "state": {
            "_dom_classes": [],
            "_model_module": "@jupyter-widgets/controls",
            "_model_module_version": "1.5.0",
            "_model_name": "HBoxModel",
            "_view_count": null,
            "_view_module": "@jupyter-widgets/controls",
            "_view_module_version": "1.5.0",
            "_view_name": "HBoxView",
            "box_style": "",
            "children": [
              "IPY_MODEL_f57ea92f479f40b7b1b34981e6622701",
              "IPY_MODEL_e21dab2fd7b140adb6c204331b79c9e3",
              "IPY_MODEL_6859a7dd276c4698ba08dc78e79abd28"
            ],
            "layout": "IPY_MODEL_2fa68e411b1f4bbdb43e4973c0bb7ce9"
          }
        },
        "f57ea92f479f40b7b1b34981e6622701": {
          "model_module": "@jupyter-widgets/controls",
          "model_name": "HTMLModel",
          "model_module_version": "1.5.0",
          "state": {
            "_dom_classes": [],
            "_model_module": "@jupyter-widgets/controls",
            "_model_module_version": "1.5.0",
            "_model_name": "HTMLModel",
            "_view_count": null,
            "_view_module": "@jupyter-widgets/controls",
            "_view_module_version": "1.5.0",
            "_view_name": "HTMLView",
            "description": "",
            "description_tooltip": null,
            "layout": "IPY_MODEL_b812bb6ab70c48e68d3eab1ceae9cb42",
            "placeholder": "​",
            "style": "IPY_MODEL_3675c0ca8339448391084299ff41a6a0",
            "value": "config.json: 100%"
          }
        },
        "e21dab2fd7b140adb6c204331b79c9e3": {
          "model_module": "@jupyter-widgets/controls",
          "model_name": "FloatProgressModel",
          "model_module_version": "1.5.0",
          "state": {
            "_dom_classes": [],
            "_model_module": "@jupyter-widgets/controls",
            "_model_module_version": "1.5.0",
            "_model_name": "FloatProgressModel",
            "_view_count": null,
            "_view_module": "@jupyter-widgets/controls",
            "_view_module_version": "1.5.0",
            "_view_name": "ProgressView",
            "bar_style": "success",
            "description": "",
            "description_tooltip": null,
            "layout": "IPY_MODEL_82659b5ee0ce49bcb832e939d29005f8",
            "max": 570,
            "min": 0,
            "orientation": "horizontal",
            "style": "IPY_MODEL_f0492ec4e9c34e02aa4a3d67f4476a95",
            "value": 570
          }
        },
        "6859a7dd276c4698ba08dc78e79abd28": {
          "model_module": "@jupyter-widgets/controls",
          "model_name": "HTMLModel",
          "model_module_version": "1.5.0",
          "state": {
            "_dom_classes": [],
            "_model_module": "@jupyter-widgets/controls",
            "_model_module_version": "1.5.0",
            "_model_name": "HTMLModel",
            "_view_count": null,
            "_view_module": "@jupyter-widgets/controls",
            "_view_module_version": "1.5.0",
            "_view_name": "HTMLView",
            "description": "",
            "description_tooltip": null,
            "layout": "IPY_MODEL_7043889a0d3149f5b7362c3a7bbbe1e8",
            "placeholder": "​",
            "style": "IPY_MODEL_0154290d065645dbb4d24b568782ec55",
            "value": " 570/570 [00:00&lt;00:00, 8.38kB/s]"
          }
        },
        "2fa68e411b1f4bbdb43e4973c0bb7ce9": {
          "model_module": "@jupyter-widgets/base",
          "model_name": "LayoutModel",
          "model_module_version": "1.2.0",
          "state": {
            "_model_module": "@jupyter-widgets/base",
            "_model_module_version": "1.2.0",
            "_model_name": "LayoutModel",
            "_view_count": null,
            "_view_module": "@jupyter-widgets/base",
            "_view_module_version": "1.2.0",
            "_view_name": "LayoutView",
            "align_content": null,
            "align_items": null,
            "align_self": null,
            "border": null,
            "bottom": null,
            "display": null,
            "flex": null,
            "flex_flow": null,
            "grid_area": null,
            "grid_auto_columns": null,
            "grid_auto_flow": null,
            "grid_auto_rows": null,
            "grid_column": null,
            "grid_gap": null,
            "grid_row": null,
            "grid_template_areas": null,
            "grid_template_columns": null,
            "grid_template_rows": null,
            "height": null,
            "justify_content": null,
            "justify_items": null,
            "left": null,
            "margin": null,
            "max_height": null,
            "max_width": null,
            "min_height": null,
            "min_width": null,
            "object_fit": null,
            "object_position": null,
            "order": null,
            "overflow": null,
            "overflow_x": null,
            "overflow_y": null,
            "padding": null,
            "right": null,
            "top": null,
            "visibility": null,
            "width": null
          }
        },
        "b812bb6ab70c48e68d3eab1ceae9cb42": {
          "model_module": "@jupyter-widgets/base",
          "model_name": "LayoutModel",
          "model_module_version": "1.2.0",
          "state": {
            "_model_module": "@jupyter-widgets/base",
            "_model_module_version": "1.2.0",
            "_model_name": "LayoutModel",
            "_view_count": null,
            "_view_module": "@jupyter-widgets/base",
            "_view_module_version": "1.2.0",
            "_view_name": "LayoutView",
            "align_content": null,
            "align_items": null,
            "align_self": null,
            "border": null,
            "bottom": null,
            "display": null,
            "flex": null,
            "flex_flow": null,
            "grid_area": null,
            "grid_auto_columns": null,
            "grid_auto_flow": null,
            "grid_auto_rows": null,
            "grid_column": null,
            "grid_gap": null,
            "grid_row": null,
            "grid_template_areas": null,
            "grid_template_columns": null,
            "grid_template_rows": null,
            "height": null,
            "justify_content": null,
            "justify_items": null,
            "left": null,
            "margin": null,
            "max_height": null,
            "max_width": null,
            "min_height": null,
            "min_width": null,
            "object_fit": null,
            "object_position": null,
            "order": null,
            "overflow": null,
            "overflow_x": null,
            "overflow_y": null,
            "padding": null,
            "right": null,
            "top": null,
            "visibility": null,
            "width": null
          }
        },
        "3675c0ca8339448391084299ff41a6a0": {
          "model_module": "@jupyter-widgets/controls",
          "model_name": "DescriptionStyleModel",
          "model_module_version": "1.5.0",
          "state": {
            "_model_module": "@jupyter-widgets/controls",
            "_model_module_version": "1.5.0",
            "_model_name": "DescriptionStyleModel",
            "_view_count": null,
            "_view_module": "@jupyter-widgets/base",
            "_view_module_version": "1.2.0",
            "_view_name": "StyleView",
            "description_width": ""
          }
        },
        "82659b5ee0ce49bcb832e939d29005f8": {
          "model_module": "@jupyter-widgets/base",
          "model_name": "LayoutModel",
          "model_module_version": "1.2.0",
          "state": {
            "_model_module": "@jupyter-widgets/base",
            "_model_module_version": "1.2.0",
            "_model_name": "LayoutModel",
            "_view_count": null,
            "_view_module": "@jupyter-widgets/base",
            "_view_module_version": "1.2.0",
            "_view_name": "LayoutView",
            "align_content": null,
            "align_items": null,
            "align_self": null,
            "border": null,
            "bottom": null,
            "display": null,
            "flex": null,
            "flex_flow": null,
            "grid_area": null,
            "grid_auto_columns": null,
            "grid_auto_flow": null,
            "grid_auto_rows": null,
            "grid_column": null,
            "grid_gap": null,
            "grid_row": null,
            "grid_template_areas": null,
            "grid_template_columns": null,
            "grid_template_rows": null,
            "height": null,
            "justify_content": null,
            "justify_items": null,
            "left": null,
            "margin": null,
            "max_height": null,
            "max_width": null,
            "min_height": null,
            "min_width": null,
            "object_fit": null,
            "object_position": null,
            "order": null,
            "overflow": null,
            "overflow_x": null,
            "overflow_y": null,
            "padding": null,
            "right": null,
            "top": null,
            "visibility": null,
            "width": null
          }
        },
        "f0492ec4e9c34e02aa4a3d67f4476a95": {
          "model_module": "@jupyter-widgets/controls",
          "model_name": "ProgressStyleModel",
          "model_module_version": "1.5.0",
          "state": {
            "_model_module": "@jupyter-widgets/controls",
            "_model_module_version": "1.5.0",
            "_model_name": "ProgressStyleModel",
            "_view_count": null,
            "_view_module": "@jupyter-widgets/base",
            "_view_module_version": "1.2.0",
            "_view_name": "StyleView",
            "bar_color": null,
            "description_width": ""
          }
        },
        "7043889a0d3149f5b7362c3a7bbbe1e8": {
          "model_module": "@jupyter-widgets/base",
          "model_name": "LayoutModel",
          "model_module_version": "1.2.0",
          "state": {
            "_model_module": "@jupyter-widgets/base",
            "_model_module_version": "1.2.0",
            "_model_name": "LayoutModel",
            "_view_count": null,
            "_view_module": "@jupyter-widgets/base",
            "_view_module_version": "1.2.0",
            "_view_name": "LayoutView",
            "align_content": null,
            "align_items": null,
            "align_self": null,
            "border": null,
            "bottom": null,
            "display": null,
            "flex": null,
            "flex_flow": null,
            "grid_area": null,
            "grid_auto_columns": null,
            "grid_auto_flow": null,
            "grid_auto_rows": null,
            "grid_column": null,
            "grid_gap": null,
            "grid_row": null,
            "grid_template_areas": null,
            "grid_template_columns": null,
            "grid_template_rows": null,
            "height": null,
            "justify_content": null,
            "justify_items": null,
            "left": null,
            "margin": null,
            "max_height": null,
            "max_width": null,
            "min_height": null,
            "min_width": null,
            "object_fit": null,
            "object_position": null,
            "order": null,
            "overflow": null,
            "overflow_x": null,
            "overflow_y": null,
            "padding": null,
            "right": null,
            "top": null,
            "visibility": null,
            "width": null
          }
        },
        "0154290d065645dbb4d24b568782ec55": {
          "model_module": "@jupyter-widgets/controls",
          "model_name": "DescriptionStyleModel",
          "model_module_version": "1.5.0",
          "state": {
            "_model_module": "@jupyter-widgets/controls",
            "_model_module_version": "1.5.0",
            "_model_name": "DescriptionStyleModel",
            "_view_count": null,
            "_view_module": "@jupyter-widgets/base",
            "_view_module_version": "1.2.0",
            "_view_name": "StyleView",
            "description_width": ""
          }
        },
        "de656bea296a47a1b0f07affe6325f1c": {
          "model_module": "@jupyter-widgets/controls",
          "model_name": "HBoxModel",
          "model_module_version": "1.5.0",
          "state": {
            "_dom_classes": [],
            "_model_module": "@jupyter-widgets/controls",
            "_model_module_version": "1.5.0",
            "_model_name": "HBoxModel",
            "_view_count": null,
            "_view_module": "@jupyter-widgets/controls",
            "_view_module_version": "1.5.0",
            "_view_name": "HBoxView",
            "box_style": "",
            "children": [
              "IPY_MODEL_9bb86f03bac14228b5a2515bf3da7801",
              "IPY_MODEL_dd740583dd9e4718ae4d27fa99e0a4ad",
              "IPY_MODEL_d58cb9c21a0e43cdba5f7667463df4f2"
            ],
            "layout": "IPY_MODEL_9635049b27f141f5ba372c85a8e09a93"
          }
        },
        "9bb86f03bac14228b5a2515bf3da7801": {
          "model_module": "@jupyter-widgets/controls",
          "model_name": "HTMLModel",
          "model_module_version": "1.5.0",
          "state": {
            "_dom_classes": [],
            "_model_module": "@jupyter-widgets/controls",
            "_model_module_version": "1.5.0",
            "_model_name": "HTMLModel",
            "_view_count": null,
            "_view_module": "@jupyter-widgets/controls",
            "_view_module_version": "1.5.0",
            "_view_name": "HTMLView",
            "description": "",
            "description_tooltip": null,
            "layout": "IPY_MODEL_6fedfa9c73c74a5a870c4ee386385ccc",
            "placeholder": "​",
            "style": "IPY_MODEL_4d2945c1d04d43ce85ff47892f8b01d0",
            "value": "model.safetensors: 100%"
          }
        },
        "dd740583dd9e4718ae4d27fa99e0a4ad": {
          "model_module": "@jupyter-widgets/controls",
          "model_name": "FloatProgressModel",
          "model_module_version": "1.5.0",
          "state": {
            "_dom_classes": [],
            "_model_module": "@jupyter-widgets/controls",
            "_model_module_version": "1.5.0",
            "_model_name": "FloatProgressModel",
            "_view_count": null,
            "_view_module": "@jupyter-widgets/controls",
            "_view_module_version": "1.5.0",
            "_view_name": "ProgressView",
            "bar_style": "success",
            "description": "",
            "description_tooltip": null,
            "layout": "IPY_MODEL_97029cff364b490495512a68b33f03ee",
            "max": 440449768,
            "min": 0,
            "orientation": "horizontal",
            "style": "IPY_MODEL_b3440749256741fba8ec32fc308604ee",
            "value": 440449768
          }
        },
        "d58cb9c21a0e43cdba5f7667463df4f2": {
          "model_module": "@jupyter-widgets/controls",
          "model_name": "HTMLModel",
          "model_module_version": "1.5.0",
          "state": {
            "_dom_classes": [],
            "_model_module": "@jupyter-widgets/controls",
            "_model_module_version": "1.5.0",
            "_model_name": "HTMLModel",
            "_view_count": null,
            "_view_module": "@jupyter-widgets/controls",
            "_view_module_version": "1.5.0",
            "_view_name": "HTMLView",
            "description": "",
            "description_tooltip": null,
            "layout": "IPY_MODEL_8e7b52a22f2d4713bdbc0721d08c02ab",
            "placeholder": "​",
            "style": "IPY_MODEL_f5039f34a68b4d9a8136ec786840508b",
            "value": " 440M/440M [00:03&lt;00:00, 113MB/s]"
          }
        },
        "9635049b27f141f5ba372c85a8e09a93": {
          "model_module": "@jupyter-widgets/base",
          "model_name": "LayoutModel",
          "model_module_version": "1.2.0",
          "state": {
            "_model_module": "@jupyter-widgets/base",
            "_model_module_version": "1.2.0",
            "_model_name": "LayoutModel",
            "_view_count": null,
            "_view_module": "@jupyter-widgets/base",
            "_view_module_version": "1.2.0",
            "_view_name": "LayoutView",
            "align_content": null,
            "align_items": null,
            "align_self": null,
            "border": null,
            "bottom": null,
            "display": null,
            "flex": null,
            "flex_flow": null,
            "grid_area": null,
            "grid_auto_columns": null,
            "grid_auto_flow": null,
            "grid_auto_rows": null,
            "grid_column": null,
            "grid_gap": null,
            "grid_row": null,
            "grid_template_areas": null,
            "grid_template_columns": null,
            "grid_template_rows": null,
            "height": null,
            "justify_content": null,
            "justify_items": null,
            "left": null,
            "margin": null,
            "max_height": null,
            "max_width": null,
            "min_height": null,
            "min_width": null,
            "object_fit": null,
            "object_position": null,
            "order": null,
            "overflow": null,
            "overflow_x": null,
            "overflow_y": null,
            "padding": null,
            "right": null,
            "top": null,
            "visibility": null,
            "width": null
          }
        },
        "6fedfa9c73c74a5a870c4ee386385ccc": {
          "model_module": "@jupyter-widgets/base",
          "model_name": "LayoutModel",
          "model_module_version": "1.2.0",
          "state": {
            "_model_module": "@jupyter-widgets/base",
            "_model_module_version": "1.2.0",
            "_model_name": "LayoutModel",
            "_view_count": null,
            "_view_module": "@jupyter-widgets/base",
            "_view_module_version": "1.2.0",
            "_view_name": "LayoutView",
            "align_content": null,
            "align_items": null,
            "align_self": null,
            "border": null,
            "bottom": null,
            "display": null,
            "flex": null,
            "flex_flow": null,
            "grid_area": null,
            "grid_auto_columns": null,
            "grid_auto_flow": null,
            "grid_auto_rows": null,
            "grid_column": null,
            "grid_gap": null,
            "grid_row": null,
            "grid_template_areas": null,
            "grid_template_columns": null,
            "grid_template_rows": null,
            "height": null,
            "justify_content": null,
            "justify_items": null,
            "left": null,
            "margin": null,
            "max_height": null,
            "max_width": null,
            "min_height": null,
            "min_width": null,
            "object_fit": null,
            "object_position": null,
            "order": null,
            "overflow": null,
            "overflow_x": null,
            "overflow_y": null,
            "padding": null,
            "right": null,
            "top": null,
            "visibility": null,
            "width": null
          }
        },
        "4d2945c1d04d43ce85ff47892f8b01d0": {
          "model_module": "@jupyter-widgets/controls",
          "model_name": "DescriptionStyleModel",
          "model_module_version": "1.5.0",
          "state": {
            "_model_module": "@jupyter-widgets/controls",
            "_model_module_version": "1.5.0",
            "_model_name": "DescriptionStyleModel",
            "_view_count": null,
            "_view_module": "@jupyter-widgets/base",
            "_view_module_version": "1.2.0",
            "_view_name": "StyleView",
            "description_width": ""
          }
        },
        "97029cff364b490495512a68b33f03ee": {
          "model_module": "@jupyter-widgets/base",
          "model_name": "LayoutModel",
          "model_module_version": "1.2.0",
          "state": {
            "_model_module": "@jupyter-widgets/base",
            "_model_module_version": "1.2.0",
            "_model_name": "LayoutModel",
            "_view_count": null,
            "_view_module": "@jupyter-widgets/base",
            "_view_module_version": "1.2.0",
            "_view_name": "LayoutView",
            "align_content": null,
            "align_items": null,
            "align_self": null,
            "border": null,
            "bottom": null,
            "display": null,
            "flex": null,
            "flex_flow": null,
            "grid_area": null,
            "grid_auto_columns": null,
            "grid_auto_flow": null,
            "grid_auto_rows": null,
            "grid_column": null,
            "grid_gap": null,
            "grid_row": null,
            "grid_template_areas": null,
            "grid_template_columns": null,
            "grid_template_rows": null,
            "height": null,
            "justify_content": null,
            "justify_items": null,
            "left": null,
            "margin": null,
            "max_height": null,
            "max_width": null,
            "min_height": null,
            "min_width": null,
            "object_fit": null,
            "object_position": null,
            "order": null,
            "overflow": null,
            "overflow_x": null,
            "overflow_y": null,
            "padding": null,
            "right": null,
            "top": null,
            "visibility": null,
            "width": null
          }
        },
        "b3440749256741fba8ec32fc308604ee": {
          "model_module": "@jupyter-widgets/controls",
          "model_name": "ProgressStyleModel",
          "model_module_version": "1.5.0",
          "state": {
            "_model_module": "@jupyter-widgets/controls",
            "_model_module_version": "1.5.0",
            "_model_name": "ProgressStyleModel",
            "_view_count": null,
            "_view_module": "@jupyter-widgets/base",
            "_view_module_version": "1.2.0",
            "_view_name": "StyleView",
            "bar_color": null,
            "description_width": ""
          }
        },
        "8e7b52a22f2d4713bdbc0721d08c02ab": {
          "model_module": "@jupyter-widgets/base",
          "model_name": "LayoutModel",
          "model_module_version": "1.2.0",
          "state": {
            "_model_module": "@jupyter-widgets/base",
            "_model_module_version": "1.2.0",
            "_model_name": "LayoutModel",
            "_view_count": null,
            "_view_module": "@jupyter-widgets/base",
            "_view_module_version": "1.2.0",
            "_view_name": "LayoutView",
            "align_content": null,
            "align_items": null,
            "align_self": null,
            "border": null,
            "bottom": null,
            "display": null,
            "flex": null,
            "flex_flow": null,
            "grid_area": null,
            "grid_auto_columns": null,
            "grid_auto_flow": null,
            "grid_auto_rows": null,
            "grid_column": null,
            "grid_gap": null,
            "grid_row": null,
            "grid_template_areas": null,
            "grid_template_columns": null,
            "grid_template_rows": null,
            "height": null,
            "justify_content": null,
            "justify_items": null,
            "left": null,
            "margin": null,
            "max_height": null,
            "max_width": null,
            "min_height": null,
            "min_width": null,
            "object_fit": null,
            "object_position": null,
            "order": null,
            "overflow": null,
            "overflow_x": null,
            "overflow_y": null,
            "padding": null,
            "right": null,
            "top": null,
            "visibility": null,
            "width": null
          }
        },
        "f5039f34a68b4d9a8136ec786840508b": {
          "model_module": "@jupyter-widgets/controls",
          "model_name": "DescriptionStyleModel",
          "model_module_version": "1.5.0",
          "state": {
            "_model_module": "@jupyter-widgets/controls",
            "_model_module_version": "1.5.0",
            "_model_name": "DescriptionStyleModel",
            "_view_count": null,
            "_view_module": "@jupyter-widgets/base",
            "_view_module_version": "1.2.0",
            "_view_name": "StyleView",
            "description_width": ""
          }
        },
        "a67bb910076b4b298442bf2073c516c4": {
          "model_module": "@jupyter-widgets/controls",
          "model_name": "HBoxModel",
          "model_module_version": "1.5.0",
          "state": {
            "_dom_classes": [],
            "_model_module": "@jupyter-widgets/controls",
            "_model_module_version": "1.5.0",
            "_model_name": "HBoxModel",
            "_view_count": null,
            "_view_module": "@jupyter-widgets/controls",
            "_view_module_version": "1.5.0",
            "_view_name": "HBoxView",
            "box_style": "",
            "children": [
              "IPY_MODEL_fee2c4761e0640519e866f9ffe97bfd7",
              "IPY_MODEL_d39fd408249f49e9bfe2edd7cdc3737b",
              "IPY_MODEL_e716b2eeec134302a7cd57629d18b6ec"
            ],
            "layout": "IPY_MODEL_434690b9462745709ab6db70dfa7b559"
          }
        },
        "fee2c4761e0640519e866f9ffe97bfd7": {
          "model_module": "@jupyter-widgets/controls",
          "model_name": "HTMLModel",
          "model_module_version": "1.5.0",
          "state": {
            "_dom_classes": [],
            "_model_module": "@jupyter-widgets/controls",
            "_model_module_version": "1.5.0",
            "_model_name": "HTMLModel",
            "_view_count": null,
            "_view_module": "@jupyter-widgets/controls",
            "_view_module_version": "1.5.0",
            "_view_name": "HTMLView",
            "description": "",
            "description_tooltip": null,
            "layout": "IPY_MODEL_13c2355304b74ae385848fe03bba2ea4",
            "placeholder": "​",
            "style": "IPY_MODEL_82c618c57a1f48f9a6f15780c701c776",
            "value": "tokenizer_config.json: 100%"
          }
        },
        "d39fd408249f49e9bfe2edd7cdc3737b": {
          "model_module": "@jupyter-widgets/controls",
          "model_name": "FloatProgressModel",
          "model_module_version": "1.5.0",
          "state": {
            "_dom_classes": [],
            "_model_module": "@jupyter-widgets/controls",
            "_model_module_version": "1.5.0",
            "_model_name": "FloatProgressModel",
            "_view_count": null,
            "_view_module": "@jupyter-widgets/controls",
            "_view_module_version": "1.5.0",
            "_view_name": "ProgressView",
            "bar_style": "success",
            "description": "",
            "description_tooltip": null,
            "layout": "IPY_MODEL_1bd87b4c1ff3422db0efc2e7bebb24f8",
            "max": 48,
            "min": 0,
            "orientation": "horizontal",
            "style": "IPY_MODEL_fb913837b3cc46d99469df4d81a63677",
            "value": 48
          }
        },
        "e716b2eeec134302a7cd57629d18b6ec": {
          "model_module": "@jupyter-widgets/controls",
          "model_name": "HTMLModel",
          "model_module_version": "1.5.0",
          "state": {
            "_dom_classes": [],
            "_model_module": "@jupyter-widgets/controls",
            "_model_module_version": "1.5.0",
            "_model_name": "HTMLModel",
            "_view_count": null,
            "_view_module": "@jupyter-widgets/controls",
            "_view_module_version": "1.5.0",
            "_view_name": "HTMLView",
            "description": "",
            "description_tooltip": null,
            "layout": "IPY_MODEL_8d67a86e50b746b5825533c1f5736645",
            "placeholder": "​",
            "style": "IPY_MODEL_dfd045a3bc474effa55f9178622ee82e",
            "value": " 48.0/48.0 [00:00&lt;00:00, 1.97kB/s]"
          }
        },
        "434690b9462745709ab6db70dfa7b559": {
          "model_module": "@jupyter-widgets/base",
          "model_name": "LayoutModel",
          "model_module_version": "1.2.0",
          "state": {
            "_model_module": "@jupyter-widgets/base",
            "_model_module_version": "1.2.0",
            "_model_name": "LayoutModel",
            "_view_count": null,
            "_view_module": "@jupyter-widgets/base",
            "_view_module_version": "1.2.0",
            "_view_name": "LayoutView",
            "align_content": null,
            "align_items": null,
            "align_self": null,
            "border": null,
            "bottom": null,
            "display": null,
            "flex": null,
            "flex_flow": null,
            "grid_area": null,
            "grid_auto_columns": null,
            "grid_auto_flow": null,
            "grid_auto_rows": null,
            "grid_column": null,
            "grid_gap": null,
            "grid_row": null,
            "grid_template_areas": null,
            "grid_template_columns": null,
            "grid_template_rows": null,
            "height": null,
            "justify_content": null,
            "justify_items": null,
            "left": null,
            "margin": null,
            "max_height": null,
            "max_width": null,
            "min_height": null,
            "min_width": null,
            "object_fit": null,
            "object_position": null,
            "order": null,
            "overflow": null,
            "overflow_x": null,
            "overflow_y": null,
            "padding": null,
            "right": null,
            "top": null,
            "visibility": null,
            "width": null
          }
        },
        "13c2355304b74ae385848fe03bba2ea4": {
          "model_module": "@jupyter-widgets/base",
          "model_name": "LayoutModel",
          "model_module_version": "1.2.0",
          "state": {
            "_model_module": "@jupyter-widgets/base",
            "_model_module_version": "1.2.0",
            "_model_name": "LayoutModel",
            "_view_count": null,
            "_view_module": "@jupyter-widgets/base",
            "_view_module_version": "1.2.0",
            "_view_name": "LayoutView",
            "align_content": null,
            "align_items": null,
            "align_self": null,
            "border": null,
            "bottom": null,
            "display": null,
            "flex": null,
            "flex_flow": null,
            "grid_area": null,
            "grid_auto_columns": null,
            "grid_auto_flow": null,
            "grid_auto_rows": null,
            "grid_column": null,
            "grid_gap": null,
            "grid_row": null,
            "grid_template_areas": null,
            "grid_template_columns": null,
            "grid_template_rows": null,
            "height": null,
            "justify_content": null,
            "justify_items": null,
            "left": null,
            "margin": null,
            "max_height": null,
            "max_width": null,
            "min_height": null,
            "min_width": null,
            "object_fit": null,
            "object_position": null,
            "order": null,
            "overflow": null,
            "overflow_x": null,
            "overflow_y": null,
            "padding": null,
            "right": null,
            "top": null,
            "visibility": null,
            "width": null
          }
        },
        "82c618c57a1f48f9a6f15780c701c776": {
          "model_module": "@jupyter-widgets/controls",
          "model_name": "DescriptionStyleModel",
          "model_module_version": "1.5.0",
          "state": {
            "_model_module": "@jupyter-widgets/controls",
            "_model_module_version": "1.5.0",
            "_model_name": "DescriptionStyleModel",
            "_view_count": null,
            "_view_module": "@jupyter-widgets/base",
            "_view_module_version": "1.2.0",
            "_view_name": "StyleView",
            "description_width": ""
          }
        },
        "1bd87b4c1ff3422db0efc2e7bebb24f8": {
          "model_module": "@jupyter-widgets/base",
          "model_name": "LayoutModel",
          "model_module_version": "1.2.0",
          "state": {
            "_model_module": "@jupyter-widgets/base",
            "_model_module_version": "1.2.0",
            "_model_name": "LayoutModel",
            "_view_count": null,
            "_view_module": "@jupyter-widgets/base",
            "_view_module_version": "1.2.0",
            "_view_name": "LayoutView",
            "align_content": null,
            "align_items": null,
            "align_self": null,
            "border": null,
            "bottom": null,
            "display": null,
            "flex": null,
            "flex_flow": null,
            "grid_area": null,
            "grid_auto_columns": null,
            "grid_auto_flow": null,
            "grid_auto_rows": null,
            "grid_column": null,
            "grid_gap": null,
            "grid_row": null,
            "grid_template_areas": null,
            "grid_template_columns": null,
            "grid_template_rows": null,
            "height": null,
            "justify_content": null,
            "justify_items": null,
            "left": null,
            "margin": null,
            "max_height": null,
            "max_width": null,
            "min_height": null,
            "min_width": null,
            "object_fit": null,
            "object_position": null,
            "order": null,
            "overflow": null,
            "overflow_x": null,
            "overflow_y": null,
            "padding": null,
            "right": null,
            "top": null,
            "visibility": null,
            "width": null
          }
        },
        "fb913837b3cc46d99469df4d81a63677": {
          "model_module": "@jupyter-widgets/controls",
          "model_name": "ProgressStyleModel",
          "model_module_version": "1.5.0",
          "state": {
            "_model_module": "@jupyter-widgets/controls",
            "_model_module_version": "1.5.0",
            "_model_name": "ProgressStyleModel",
            "_view_count": null,
            "_view_module": "@jupyter-widgets/base",
            "_view_module_version": "1.2.0",
            "_view_name": "StyleView",
            "bar_color": null,
            "description_width": ""
          }
        },
        "8d67a86e50b746b5825533c1f5736645": {
          "model_module": "@jupyter-widgets/base",
          "model_name": "LayoutModel",
          "model_module_version": "1.2.0",
          "state": {
            "_model_module": "@jupyter-widgets/base",
            "_model_module_version": "1.2.0",
            "_model_name": "LayoutModel",
            "_view_count": null,
            "_view_module": "@jupyter-widgets/base",
            "_view_module_version": "1.2.0",
            "_view_name": "LayoutView",
            "align_content": null,
            "align_items": null,
            "align_self": null,
            "border": null,
            "bottom": null,
            "display": null,
            "flex": null,
            "flex_flow": null,
            "grid_area": null,
            "grid_auto_columns": null,
            "grid_auto_flow": null,
            "grid_auto_rows": null,
            "grid_column": null,
            "grid_gap": null,
            "grid_row": null,
            "grid_template_areas": null,
            "grid_template_columns": null,
            "grid_template_rows": null,
            "height": null,
            "justify_content": null,
            "justify_items": null,
            "left": null,
            "margin": null,
            "max_height": null,
            "max_width": null,
            "min_height": null,
            "min_width": null,
            "object_fit": null,
            "object_position": null,
            "order": null,
            "overflow": null,
            "overflow_x": null,
            "overflow_y": null,
            "padding": null,
            "right": null,
            "top": null,
            "visibility": null,
            "width": null
          }
        },
        "dfd045a3bc474effa55f9178622ee82e": {
          "model_module": "@jupyter-widgets/controls",
          "model_name": "DescriptionStyleModel",
          "model_module_version": "1.5.0",
          "state": {
            "_model_module": "@jupyter-widgets/controls",
            "_model_module_version": "1.5.0",
            "_model_name": "DescriptionStyleModel",
            "_view_count": null,
            "_view_module": "@jupyter-widgets/base",
            "_view_module_version": "1.2.0",
            "_view_name": "StyleView",
            "description_width": ""
          }
        },
        "e93c0e5eed35443194ed388777406bff": {
          "model_module": "@jupyter-widgets/controls",
          "model_name": "HBoxModel",
          "model_module_version": "1.5.0",
          "state": {
            "_dom_classes": [],
            "_model_module": "@jupyter-widgets/controls",
            "_model_module_version": "1.5.0",
            "_model_name": "HBoxModel",
            "_view_count": null,
            "_view_module": "@jupyter-widgets/controls",
            "_view_module_version": "1.5.0",
            "_view_name": "HBoxView",
            "box_style": "",
            "children": [
              "IPY_MODEL_094a3113c73c4300a9c837b356fdb3bc",
              "IPY_MODEL_818b67f038c74a589938b7bbcc7e9d91",
              "IPY_MODEL_9f34c722f5d040a7a8adf7c6d6e77f11"
            ],
            "layout": "IPY_MODEL_9ef0a670b06c4544b39abd907fa0300e"
          }
        },
        "094a3113c73c4300a9c837b356fdb3bc": {
          "model_module": "@jupyter-widgets/controls",
          "model_name": "HTMLModel",
          "model_module_version": "1.5.0",
          "state": {
            "_dom_classes": [],
            "_model_module": "@jupyter-widgets/controls",
            "_model_module_version": "1.5.0",
            "_model_name": "HTMLModel",
            "_view_count": null,
            "_view_module": "@jupyter-widgets/controls",
            "_view_module_version": "1.5.0",
            "_view_name": "HTMLView",
            "description": "",
            "description_tooltip": null,
            "layout": "IPY_MODEL_2bf2099ff8b44fd687a665c4a74fdb64",
            "placeholder": "​",
            "style": "IPY_MODEL_b16b7ee9d1254c4abf7f86fc81afb982",
            "value": "vocab.txt: 100%"
          }
        },
        "818b67f038c74a589938b7bbcc7e9d91": {
          "model_module": "@jupyter-widgets/controls",
          "model_name": "FloatProgressModel",
          "model_module_version": "1.5.0",
          "state": {
            "_dom_classes": [],
            "_model_module": "@jupyter-widgets/controls",
            "_model_module_version": "1.5.0",
            "_model_name": "FloatProgressModel",
            "_view_count": null,
            "_view_module": "@jupyter-widgets/controls",
            "_view_module_version": "1.5.0",
            "_view_name": "ProgressView",
            "bar_style": "success",
            "description": "",
            "description_tooltip": null,
            "layout": "IPY_MODEL_bba5edc9d37343e6b93c218afdbac669",
            "max": 231508,
            "min": 0,
            "orientation": "horizontal",
            "style": "IPY_MODEL_bd02792058154b69940b8c955852d33a",
            "value": 231508
          }
        },
        "9f34c722f5d040a7a8adf7c6d6e77f11": {
          "model_module": "@jupyter-widgets/controls",
          "model_name": "HTMLModel",
          "model_module_version": "1.5.0",
          "state": {
            "_dom_classes": [],
            "_model_module": "@jupyter-widgets/controls",
            "_model_module_version": "1.5.0",
            "_model_name": "HTMLModel",
            "_view_count": null,
            "_view_module": "@jupyter-widgets/controls",
            "_view_module_version": "1.5.0",
            "_view_name": "HTMLView",
            "description": "",
            "description_tooltip": null,
            "layout": "IPY_MODEL_1e33708d64c44e3192340d11cf91c0d5",
            "placeholder": "​",
            "style": "IPY_MODEL_fcf85ac690c641909bb173dbceeeec17",
            "value": " 232k/232k [00:00&lt;00:00, 3.08MB/s]"
          }
        },
        "9ef0a670b06c4544b39abd907fa0300e": {
          "model_module": "@jupyter-widgets/base",
          "model_name": "LayoutModel",
          "model_module_version": "1.2.0",
          "state": {
            "_model_module": "@jupyter-widgets/base",
            "_model_module_version": "1.2.0",
            "_model_name": "LayoutModel",
            "_view_count": null,
            "_view_module": "@jupyter-widgets/base",
            "_view_module_version": "1.2.0",
            "_view_name": "LayoutView",
            "align_content": null,
            "align_items": null,
            "align_self": null,
            "border": null,
            "bottom": null,
            "display": null,
            "flex": null,
            "flex_flow": null,
            "grid_area": null,
            "grid_auto_columns": null,
            "grid_auto_flow": null,
            "grid_auto_rows": null,
            "grid_column": null,
            "grid_gap": null,
            "grid_row": null,
            "grid_template_areas": null,
            "grid_template_columns": null,
            "grid_template_rows": null,
            "height": null,
            "justify_content": null,
            "justify_items": null,
            "left": null,
            "margin": null,
            "max_height": null,
            "max_width": null,
            "min_height": null,
            "min_width": null,
            "object_fit": null,
            "object_position": null,
            "order": null,
            "overflow": null,
            "overflow_x": null,
            "overflow_y": null,
            "padding": null,
            "right": null,
            "top": null,
            "visibility": null,
            "width": null
          }
        },
        "2bf2099ff8b44fd687a665c4a74fdb64": {
          "model_module": "@jupyter-widgets/base",
          "model_name": "LayoutModel",
          "model_module_version": "1.2.0",
          "state": {
            "_model_module": "@jupyter-widgets/base",
            "_model_module_version": "1.2.0",
            "_model_name": "LayoutModel",
            "_view_count": null,
            "_view_module": "@jupyter-widgets/base",
            "_view_module_version": "1.2.0",
            "_view_name": "LayoutView",
            "align_content": null,
            "align_items": null,
            "align_self": null,
            "border": null,
            "bottom": null,
            "display": null,
            "flex": null,
            "flex_flow": null,
            "grid_area": null,
            "grid_auto_columns": null,
            "grid_auto_flow": null,
            "grid_auto_rows": null,
            "grid_column": null,
            "grid_gap": null,
            "grid_row": null,
            "grid_template_areas": null,
            "grid_template_columns": null,
            "grid_template_rows": null,
            "height": null,
            "justify_content": null,
            "justify_items": null,
            "left": null,
            "margin": null,
            "max_height": null,
            "max_width": null,
            "min_height": null,
            "min_width": null,
            "object_fit": null,
            "object_position": null,
            "order": null,
            "overflow": null,
            "overflow_x": null,
            "overflow_y": null,
            "padding": null,
            "right": null,
            "top": null,
            "visibility": null,
            "width": null
          }
        },
        "b16b7ee9d1254c4abf7f86fc81afb982": {
          "model_module": "@jupyter-widgets/controls",
          "model_name": "DescriptionStyleModel",
          "model_module_version": "1.5.0",
          "state": {
            "_model_module": "@jupyter-widgets/controls",
            "_model_module_version": "1.5.0",
            "_model_name": "DescriptionStyleModel",
            "_view_count": null,
            "_view_module": "@jupyter-widgets/base",
            "_view_module_version": "1.2.0",
            "_view_name": "StyleView",
            "description_width": ""
          }
        },
        "bba5edc9d37343e6b93c218afdbac669": {
          "model_module": "@jupyter-widgets/base",
          "model_name": "LayoutModel",
          "model_module_version": "1.2.0",
          "state": {
            "_model_module": "@jupyter-widgets/base",
            "_model_module_version": "1.2.0",
            "_model_name": "LayoutModel",
            "_view_count": null,
            "_view_module": "@jupyter-widgets/base",
            "_view_module_version": "1.2.0",
            "_view_name": "LayoutView",
            "align_content": null,
            "align_items": null,
            "align_self": null,
            "border": null,
            "bottom": null,
            "display": null,
            "flex": null,
            "flex_flow": null,
            "grid_area": null,
            "grid_auto_columns": null,
            "grid_auto_flow": null,
            "grid_auto_rows": null,
            "grid_column": null,
            "grid_gap": null,
            "grid_row": null,
            "grid_template_areas": null,
            "grid_template_columns": null,
            "grid_template_rows": null,
            "height": null,
            "justify_content": null,
            "justify_items": null,
            "left": null,
            "margin": null,
            "max_height": null,
            "max_width": null,
            "min_height": null,
            "min_width": null,
            "object_fit": null,
            "object_position": null,
            "order": null,
            "overflow": null,
            "overflow_x": null,
            "overflow_y": null,
            "padding": null,
            "right": null,
            "top": null,
            "visibility": null,
            "width": null
          }
        },
        "bd02792058154b69940b8c955852d33a": {
          "model_module": "@jupyter-widgets/controls",
          "model_name": "ProgressStyleModel",
          "model_module_version": "1.5.0",
          "state": {
            "_model_module": "@jupyter-widgets/controls",
            "_model_module_version": "1.5.0",
            "_model_name": "ProgressStyleModel",
            "_view_count": null,
            "_view_module": "@jupyter-widgets/base",
            "_view_module_version": "1.2.0",
            "_view_name": "StyleView",
            "bar_color": null,
            "description_width": ""
          }
        },
        "1e33708d64c44e3192340d11cf91c0d5": {
          "model_module": "@jupyter-widgets/base",
          "model_name": "LayoutModel",
          "model_module_version": "1.2.0",
          "state": {
            "_model_module": "@jupyter-widgets/base",
            "_model_module_version": "1.2.0",
            "_model_name": "LayoutModel",
            "_view_count": null,
            "_view_module": "@jupyter-widgets/base",
            "_view_module_version": "1.2.0",
            "_view_name": "LayoutView",
            "align_content": null,
            "align_items": null,
            "align_self": null,
            "border": null,
            "bottom": null,
            "display": null,
            "flex": null,
            "flex_flow": null,
            "grid_area": null,
            "grid_auto_columns": null,
            "grid_auto_flow": null,
            "grid_auto_rows": null,
            "grid_column": null,
            "grid_gap": null,
            "grid_row": null,
            "grid_template_areas": null,
            "grid_template_columns": null,
            "grid_template_rows": null,
            "height": null,
            "justify_content": null,
            "justify_items": null,
            "left": null,
            "margin": null,
            "max_height": null,
            "max_width": null,
            "min_height": null,
            "min_width": null,
            "object_fit": null,
            "object_position": null,
            "order": null,
            "overflow": null,
            "overflow_x": null,
            "overflow_y": null,
            "padding": null,
            "right": null,
            "top": null,
            "visibility": null,
            "width": null
          }
        },
        "fcf85ac690c641909bb173dbceeeec17": {
          "model_module": "@jupyter-widgets/controls",
          "model_name": "DescriptionStyleModel",
          "model_module_version": "1.5.0",
          "state": {
            "_model_module": "@jupyter-widgets/controls",
            "_model_module_version": "1.5.0",
            "_model_name": "DescriptionStyleModel",
            "_view_count": null,
            "_view_module": "@jupyter-widgets/base",
            "_view_module_version": "1.2.0",
            "_view_name": "StyleView",
            "description_width": ""
          }
        },
        "d72b9e189b2e4f328638fddeb2bfe08a": {
          "model_module": "@jupyter-widgets/controls",
          "model_name": "HBoxModel",
          "model_module_version": "1.5.0",
          "state": {
            "_dom_classes": [],
            "_model_module": "@jupyter-widgets/controls",
            "_model_module_version": "1.5.0",
            "_model_name": "HBoxModel",
            "_view_count": null,
            "_view_module": "@jupyter-widgets/controls",
            "_view_module_version": "1.5.0",
            "_view_name": "HBoxView",
            "box_style": "",
            "children": [
              "IPY_MODEL_029d780812db48ee9daed55102e1fd4e",
              "IPY_MODEL_ef6121c98bb141898cd5fbe02a501b81",
              "IPY_MODEL_4f78e40117ee4d799d32852379ebe1bd"
            ],
            "layout": "IPY_MODEL_b1b7f0f2d65e491f8a6e7309d19af5e0"
          }
        },
        "029d780812db48ee9daed55102e1fd4e": {
          "model_module": "@jupyter-widgets/controls",
          "model_name": "HTMLModel",
          "model_module_version": "1.5.0",
          "state": {
            "_dom_classes": [],
            "_model_module": "@jupyter-widgets/controls",
            "_model_module_version": "1.5.0",
            "_model_name": "HTMLModel",
            "_view_count": null,
            "_view_module": "@jupyter-widgets/controls",
            "_view_module_version": "1.5.0",
            "_view_name": "HTMLView",
            "description": "",
            "description_tooltip": null,
            "layout": "IPY_MODEL_bdc37544d2c744bab76a83cc18f7a7b6",
            "placeholder": "​",
            "style": "IPY_MODEL_76d9d07c07ef481eaf83e2f738375544",
            "value": "tokenizer.json: 100%"
          }
        },
        "ef6121c98bb141898cd5fbe02a501b81": {
          "model_module": "@jupyter-widgets/controls",
          "model_name": "FloatProgressModel",
          "model_module_version": "1.5.0",
          "state": {
            "_dom_classes": [],
            "_model_module": "@jupyter-widgets/controls",
            "_model_module_version": "1.5.0",
            "_model_name": "FloatProgressModel",
            "_view_count": null,
            "_view_module": "@jupyter-widgets/controls",
            "_view_module_version": "1.5.0",
            "_view_name": "ProgressView",
            "bar_style": "success",
            "description": "",
            "description_tooltip": null,
            "layout": "IPY_MODEL_f1a5cd5371774cf1b423f077906a685e",
            "max": 466062,
            "min": 0,
            "orientation": "horizontal",
            "style": "IPY_MODEL_291bee3de2e24abb9d91532129e07e4c",
            "value": 466062
          }
        },
        "4f78e40117ee4d799d32852379ebe1bd": {
          "model_module": "@jupyter-widgets/controls",
          "model_name": "HTMLModel",
          "model_module_version": "1.5.0",
          "state": {
            "_dom_classes": [],
            "_model_module": "@jupyter-widgets/controls",
            "_model_module_version": "1.5.0",
            "_model_name": "HTMLModel",
            "_view_count": null,
            "_view_module": "@jupyter-widgets/controls",
            "_view_module_version": "1.5.0",
            "_view_name": "HTMLView",
            "description": "",
            "description_tooltip": null,
            "layout": "IPY_MODEL_67e07999635b418facc21c07a5a22ecd",
            "placeholder": "​",
            "style": "IPY_MODEL_58513bb2dae9466e95d6ac6e8d7305b0",
            "value": " 466k/466k [00:00&lt;00:00, 6.60MB/s]"
          }
        },
        "b1b7f0f2d65e491f8a6e7309d19af5e0": {
          "model_module": "@jupyter-widgets/base",
          "model_name": "LayoutModel",
          "model_module_version": "1.2.0",
          "state": {
            "_model_module": "@jupyter-widgets/base",
            "_model_module_version": "1.2.0",
            "_model_name": "LayoutModel",
            "_view_count": null,
            "_view_module": "@jupyter-widgets/base",
            "_view_module_version": "1.2.0",
            "_view_name": "LayoutView",
            "align_content": null,
            "align_items": null,
            "align_self": null,
            "border": null,
            "bottom": null,
            "display": null,
            "flex": null,
            "flex_flow": null,
            "grid_area": null,
            "grid_auto_columns": null,
            "grid_auto_flow": null,
            "grid_auto_rows": null,
            "grid_column": null,
            "grid_gap": null,
            "grid_row": null,
            "grid_template_areas": null,
            "grid_template_columns": null,
            "grid_template_rows": null,
            "height": null,
            "justify_content": null,
            "justify_items": null,
            "left": null,
            "margin": null,
            "max_height": null,
            "max_width": null,
            "min_height": null,
            "min_width": null,
            "object_fit": null,
            "object_position": null,
            "order": null,
            "overflow": null,
            "overflow_x": null,
            "overflow_y": null,
            "padding": null,
            "right": null,
            "top": null,
            "visibility": null,
            "width": null
          }
        },
        "bdc37544d2c744bab76a83cc18f7a7b6": {
          "model_module": "@jupyter-widgets/base",
          "model_name": "LayoutModel",
          "model_module_version": "1.2.0",
          "state": {
            "_model_module": "@jupyter-widgets/base",
            "_model_module_version": "1.2.0",
            "_model_name": "LayoutModel",
            "_view_count": null,
            "_view_module": "@jupyter-widgets/base",
            "_view_module_version": "1.2.0",
            "_view_name": "LayoutView",
            "align_content": null,
            "align_items": null,
            "align_self": null,
            "border": null,
            "bottom": null,
            "display": null,
            "flex": null,
            "flex_flow": null,
            "grid_area": null,
            "grid_auto_columns": null,
            "grid_auto_flow": null,
            "grid_auto_rows": null,
            "grid_column": null,
            "grid_gap": null,
            "grid_row": null,
            "grid_template_areas": null,
            "grid_template_columns": null,
            "grid_template_rows": null,
            "height": null,
            "justify_content": null,
            "justify_items": null,
            "left": null,
            "margin": null,
            "max_height": null,
            "max_width": null,
            "min_height": null,
            "min_width": null,
            "object_fit": null,
            "object_position": null,
            "order": null,
            "overflow": null,
            "overflow_x": null,
            "overflow_y": null,
            "padding": null,
            "right": null,
            "top": null,
            "visibility": null,
            "width": null
          }
        },
        "76d9d07c07ef481eaf83e2f738375544": {
          "model_module": "@jupyter-widgets/controls",
          "model_name": "DescriptionStyleModel",
          "model_module_version": "1.5.0",
          "state": {
            "_model_module": "@jupyter-widgets/controls",
            "_model_module_version": "1.5.0",
            "_model_name": "DescriptionStyleModel",
            "_view_count": null,
            "_view_module": "@jupyter-widgets/base",
            "_view_module_version": "1.2.0",
            "_view_name": "StyleView",
            "description_width": ""
          }
        },
        "f1a5cd5371774cf1b423f077906a685e": {
          "model_module": "@jupyter-widgets/base",
          "model_name": "LayoutModel",
          "model_module_version": "1.2.0",
          "state": {
            "_model_module": "@jupyter-widgets/base",
            "_model_module_version": "1.2.0",
            "_model_name": "LayoutModel",
            "_view_count": null,
            "_view_module": "@jupyter-widgets/base",
            "_view_module_version": "1.2.0",
            "_view_name": "LayoutView",
            "align_content": null,
            "align_items": null,
            "align_self": null,
            "border": null,
            "bottom": null,
            "display": null,
            "flex": null,
            "flex_flow": null,
            "grid_area": null,
            "grid_auto_columns": null,
            "grid_auto_flow": null,
            "grid_auto_rows": null,
            "grid_column": null,
            "grid_gap": null,
            "grid_row": null,
            "grid_template_areas": null,
            "grid_template_columns": null,
            "grid_template_rows": null,
            "height": null,
            "justify_content": null,
            "justify_items": null,
            "left": null,
            "margin": null,
            "max_height": null,
            "max_width": null,
            "min_height": null,
            "min_width": null,
            "object_fit": null,
            "object_position": null,
            "order": null,
            "overflow": null,
            "overflow_x": null,
            "overflow_y": null,
            "padding": null,
            "right": null,
            "top": null,
            "visibility": null,
            "width": null
          }
        },
        "291bee3de2e24abb9d91532129e07e4c": {
          "model_module": "@jupyter-widgets/controls",
          "model_name": "ProgressStyleModel",
          "model_module_version": "1.5.0",
          "state": {
            "_model_module": "@jupyter-widgets/controls",
            "_model_module_version": "1.5.0",
            "_model_name": "ProgressStyleModel",
            "_view_count": null,
            "_view_module": "@jupyter-widgets/base",
            "_view_module_version": "1.2.0",
            "_view_name": "StyleView",
            "bar_color": null,
            "description_width": ""
          }
        },
        "67e07999635b418facc21c07a5a22ecd": {
          "model_module": "@jupyter-widgets/base",
          "model_name": "LayoutModel",
          "model_module_version": "1.2.0",
          "state": {
            "_model_module": "@jupyter-widgets/base",
            "_model_module_version": "1.2.0",
            "_model_name": "LayoutModel",
            "_view_count": null,
            "_view_module": "@jupyter-widgets/base",
            "_view_module_version": "1.2.0",
            "_view_name": "LayoutView",
            "align_content": null,
            "align_items": null,
            "align_self": null,
            "border": null,
            "bottom": null,
            "display": null,
            "flex": null,
            "flex_flow": null,
            "grid_area": null,
            "grid_auto_columns": null,
            "grid_auto_flow": null,
            "grid_auto_rows": null,
            "grid_column": null,
            "grid_gap": null,
            "grid_row": null,
            "grid_template_areas": null,
            "grid_template_columns": null,
            "grid_template_rows": null,
            "height": null,
            "justify_content": null,
            "justify_items": null,
            "left": null,
            "margin": null,
            "max_height": null,
            "max_width": null,
            "min_height": null,
            "min_width": null,
            "object_fit": null,
            "object_position": null,
            "order": null,
            "overflow": null,
            "overflow_x": null,
            "overflow_y": null,
            "padding": null,
            "right": null,
            "top": null,
            "visibility": null,
            "width": null
          }
        },
        "58513bb2dae9466e95d6ac6e8d7305b0": {
          "model_module": "@jupyter-widgets/controls",
          "model_name": "DescriptionStyleModel",
          "model_module_version": "1.5.0",
          "state": {
            "_model_module": "@jupyter-widgets/controls",
            "_model_module_version": "1.5.0",
            "_model_name": "DescriptionStyleModel",
            "_view_count": null,
            "_view_module": "@jupyter-widgets/base",
            "_view_module_version": "1.2.0",
            "_view_name": "StyleView",
            "description_width": ""
          }
        }
      }
    }
  },
  "nbformat_minor": 0,
  "nbformat": 4,
  "cells": [
    {
      "cell_type": "markdown",
      "source": [
        "<center><h1>BERT Архитектура</h1></center>"
      ],
      "metadata": {
        "id": "EU2e_TzceyLd"
      }
    },
    {
      "cell_type": "markdown",
      "source": [
        "<p >Существует четыре типа предварительно обученных версий BERT в зависимости от масштаба архитектуры модели:</p>\n",
        "<ol>\n",
        "    <li>BERT-Base (Cased / Un-Cased): 12-layer, 768-hidden-nodes, 12-attention-heads, 110M parameters</li>\n",
        "    <li>BERT-Large (Cased / Un-Cased): 24-layer, 1024-hidden-nodes, 16-attention-heads, 340M parameters</li>\n",
        "</ol>\n",
        "\n",
        "<p>Нам нужно выбрать, <b>какие предварительно обученные веса BERT нам нужны</b>. Например, если у нас нет доступа к большим вычислительным ресурсам, мы предпочитаем использовать базовые модели. И тогда выбор cased «с регистром» или uncased «без регистра» зависит от того, считаем ли мы, что регистр букв будет полезен для поставленной задачи.</p>"
      ],
      "metadata": {
        "id": "0ElG4ggheyLd"
      }
    },
    {
      "cell_type": "markdown",
      "source": [
        "<center><h1>Предисловие</h1></center>"
      ],
      "metadata": {
        "id": "7oPz2YmjeyLd"
      }
    },
    {
      "cell_type": "markdown",
      "source": [
        "<br><center><h1>1. <u>Предобработка текста</u></h1></center>\n",
        "<br>\n",
        "<p>BERT опирается на Трансформатор (механизм внимания, который изучает контекстуальные связи между словами в тексте). Базовый преобразователь состоит из енкодера для чтения текстового ввода и декодера для прогнозирования задачи. Поскольку целью BERT является создание модели языкового представления, ему нужна только часть енкодера. Входными данными для кодировщика BERT является последовательность токенов, которые сначала преобразуются в векторы, а затем обрабатываются в нейронной сети. Начнем с того, что каждый входной эмбеддинг представляет собой комбинацию трех эмбеддингов:</p>\n",
        "\n",
        "\n",
        "<br><center><h1>Входное представление для BERT: входные эмбеддинги представляют собой сумму эмбеддингов токенов, эмбеддингов сегментации и позиции.</h1></center>\n",
        "<br>\n",
        "--------------------------------------------------------------------------------------------------------------------------------------------------------------------------------------------------\n",
        "<ul>\n",
        "    <li><b>Эмбеддинги токенов:</b> токен [CLS] добавляется к токенам входного слова в начале первого предложения, а токен [SEP] вставляется в конце каждого предложения.</li >\n",
        "     <li><b>Эмбеддинги сегментов.</b>К каждому токену добавляется маркер, обозначающий предложение A или предложение B. Это позволяет кодировщику различать предложения.</li>\n",
        "     <li><b>Позиционные эмбеддинги.</b> К каждому токену добавляется позиционные эмбеддинги, чтобы указать его положение в предложении.</li>\n",
        "</ul>\n",
        "<br><center><h1>2. <u>Предобучение</u></h1></center>\n",
        "<br>\n",
        "<p>BERT предварительно обучен решению двух задач НЛП:</p>\n",
        "\n",
        "<h1> 1. Моделирование языка в масках</h1>\n",
        "<ul>\n",
        "     <li>Моделирование языка — это задача прогнозирования следующего слова по последовательности слов. При моделировании языка масок вместо прогнозирования каждого следующего токена процент входных токенов маскируется случайным образом, и прогнозируются только эти замаскированные токены.</li>\n",
        "     <li> [MASK] Токен — это токен, обозначающий отсутствие токена.</li>\n",
        "     <li> Замаскированные слова не всегда заменяются замаскированным токеном – [MASK], потому что тогда замаскированные токены никогда не будут видны до точной настройки. Поэтому 15% токенов выбираются случайным образом. А из 15% токенов, выбранных для маскировки:</li>\n",
        "     <br>\n",
        "     <center><h1>80% токенов фактически заменяются токеном [MASK].</h1></center>\n",
        "     <center><h1>10% токенов заменяются случайными токенами.</h1></center>\n",
        "     <center><h1>10 % токенов времени остаются неизменными.</h1></center>\n",
        "</ul>\n",
        "<br>\n",
        "<h1> 2. Прогнозирование следующего предложения</h1>\n",
        "<ul>\n",
        "     <li>Задача прогнозирования следующего предложения — это задача двоичной классификации, в которой по паре предложений прогнозируется, является ли второе предложение фактически следующим предложением первого предложения.</li>\n",
        "     <br>\n",
        "     <center><img src=\"https://yashuseth.files.wordpress.com/2019/06/fig5.png?w=442&h=231\"></center>\n",
        "     <br>\n",
        "     <li>Эту задачу можно легко сгенерировать на основе любого одноязычного корпуса. Это полезно, поскольку многие последующие задачи, такие как вопросы и ответы и вывод на естественном языке, требуют понимания взаимосвязи между двумя предложениями.</li>\n",
        "</ul>"
      ],
      "metadata": {
        "id": "K-5nuSa4eyLd"
      }
    },
    {
      "cell_type": "markdown",
      "source": [
        "<center><h1>Модель обучается одновременно с помощью Masked LM и прогнозирования следующего предложения. Это делается для того, чтобы минимизировать совокупную функцию потерь двух стратегий.</h1></center>\n"
      ],
      "metadata": {
        "id": "a_G39sJWeyLd"
      }
    },
    {
      "cell_type": "markdown",
      "source": [
        "<br>\n",
        "<center><h1>Примение модели BERT</h1></center>"
      ],
      "metadata": {
        "id": "PGzx-dT_eyLd"
      }
    },
    {
      "cell_type": "markdown",
      "source": [
        "<p><b>Постановка задачи:</b> У нас есть коллекция SMS-сообщений. Некоторые из этих сообщений являются спамом, а остальные подлинными. Наша задача — построить систему, которая бы автоматически определяла, является ли сообщение спамом или нет.</p>"
      ],
      "metadata": {
        "id": "Nz4OE72peyLd"
      }
    },
    {
      "cell_type": "markdown",
      "source": [
        "<h1>1. Импорт библиотек и загрузка набора данных</h1>"
      ],
      "metadata": {
        "id": "9VnHaqtReyLe"
      }
    },
    {
      "cell_type": "code",
      "source": [
        "!wget  -O 'spamdata_v2.csv' -q 'https://www.dropbox.com/scl/fi/awvbofou09yuomcywua97/spamdata_v2.csv?rlkey=xuamzpesiye6xl5ey3nh65v4c&dl=0'"
      ],
      "metadata": {
        "id": "vBLAT5Q4rXki"
      },
      "execution_count": null,
      "outputs": []
    },
    {
      "cell_type": "code",
      "source": [
        "import numpy as np\n",
        "import pandas as pd\n",
        "import torch\n",
        "import torch.nn as nn\n",
        "from sklearn.model_selection import train_test_split\n",
        "from sklearn.metrics import classification_report\n",
        "import transformers\n",
        "from transformers import AutoModel, BertTokenizerFast\n",
        "\n",
        "# выбор устройства GPU\n",
        "device = torch.device(\"cuda\")"
      ],
      "metadata": {
        "execution": {
          "iopub.status.busy": "2021-05-20T12:16:43.767700Z",
          "iopub.execute_input": "2021-05-20T12:16:43.768047Z",
          "iopub.status.idle": "2021-05-20T12:16:43.773166Z",
          "shell.execute_reply.started": "2021-05-20T12:16:43.767999Z",
          "shell.execute_reply": "2021-05-20T12:16:43.772221Z"
        },
        "trusted": true,
        "id": "fFhRD6NieyLe"
      },
      "execution_count": null,
      "outputs": []
    },
    {
      "cell_type": "code",
      "source": [
        "df = pd.read_csv(\"spamdata_v2.csv\")\n",
        "df.head()"
      ],
      "metadata": {
        "execution": {
          "iopub.status.busy": "2021-05-20T12:16:45.214126Z",
          "iopub.execute_input": "2021-05-20T12:16:45.214458Z",
          "iopub.status.idle": "2021-05-20T12:16:45.244325Z",
          "shell.execute_reply.started": "2021-05-20T12:16:45.214430Z",
          "shell.execute_reply": "2021-05-20T12:16:45.243406Z"
        },
        "trusted": true,
        "colab": {
          "base_uri": "https://localhost:8080/",
          "height": 206
        },
        "id": "evkj8YYjeyLe",
        "outputId": "ec677469-0020-4a82-c967-21ba8f322a8a"
      },
      "execution_count": null,
      "outputs": [
        {
          "output_type": "execute_result",
          "data": {
            "text/plain": [
              "   label                                               text\n",
              "0      0  Go until jurong point, crazy.. Available only ...\n",
              "1      0                      Ok lar... Joking wif u oni...\n",
              "2      1  Free entry in 2 a wkly comp to win FA Cup fina...\n",
              "3      0  U dun say so early hor... U c already then say...\n",
              "4      0  Nah I don't think he goes to usf, he lives aro..."
            ],
            "text/html": [
              "\n",
              "  <div id=\"df-9593494d-3d99-4299-b519-d83bec889da9\" class=\"colab-df-container\">\n",
              "    <div>\n",
              "<style scoped>\n",
              "    .dataframe tbody tr th:only-of-type {\n",
              "        vertical-align: middle;\n",
              "    }\n",
              "\n",
              "    .dataframe tbody tr th {\n",
              "        vertical-align: top;\n",
              "    }\n",
              "\n",
              "    .dataframe thead th {\n",
              "        text-align: right;\n",
              "    }\n",
              "</style>\n",
              "<table border=\"1\" class=\"dataframe\">\n",
              "  <thead>\n",
              "    <tr style=\"text-align: right;\">\n",
              "      <th></th>\n",
              "      <th>label</th>\n",
              "      <th>text</th>\n",
              "    </tr>\n",
              "  </thead>\n",
              "  <tbody>\n",
              "    <tr>\n",
              "      <th>0</th>\n",
              "      <td>0</td>\n",
              "      <td>Go until jurong point, crazy.. Available only ...</td>\n",
              "    </tr>\n",
              "    <tr>\n",
              "      <th>1</th>\n",
              "      <td>0</td>\n",
              "      <td>Ok lar... Joking wif u oni...</td>\n",
              "    </tr>\n",
              "    <tr>\n",
              "      <th>2</th>\n",
              "      <td>1</td>\n",
              "      <td>Free entry in 2 a wkly comp to win FA Cup fina...</td>\n",
              "    </tr>\n",
              "    <tr>\n",
              "      <th>3</th>\n",
              "      <td>0</td>\n",
              "      <td>U dun say so early hor... U c already then say...</td>\n",
              "    </tr>\n",
              "    <tr>\n",
              "      <th>4</th>\n",
              "      <td>0</td>\n",
              "      <td>Nah I don't think he goes to usf, he lives aro...</td>\n",
              "    </tr>\n",
              "  </tbody>\n",
              "</table>\n",
              "</div>\n",
              "    <div class=\"colab-df-buttons\">\n",
              "\n",
              "  <div class=\"colab-df-container\">\n",
              "    <button class=\"colab-df-convert\" onclick=\"convertToInteractive('df-9593494d-3d99-4299-b519-d83bec889da9')\"\n",
              "            title=\"Convert this dataframe to an interactive table.\"\n",
              "            style=\"display:none;\">\n",
              "\n",
              "  <svg xmlns=\"http://www.w3.org/2000/svg\" height=\"24px\" viewBox=\"0 -960 960 960\">\n",
              "    <path d=\"M120-120v-720h720v720H120Zm60-500h600v-160H180v160Zm220 220h160v-160H400v160Zm0 220h160v-160H400v160ZM180-400h160v-160H180v160Zm440 0h160v-160H620v160ZM180-180h160v-160H180v160Zm440 0h160v-160H620v160Z\"/>\n",
              "  </svg>\n",
              "    </button>\n",
              "\n",
              "  <style>\n",
              "    .colab-df-container {\n",
              "      display:flex;\n",
              "      gap: 12px;\n",
              "    }\n",
              "\n",
              "    .colab-df-convert {\n",
              "      background-color: #E8F0FE;\n",
              "      border: none;\n",
              "      border-radius: 50%;\n",
              "      cursor: pointer;\n",
              "      display: none;\n",
              "      fill: #1967D2;\n",
              "      height: 32px;\n",
              "      padding: 0 0 0 0;\n",
              "      width: 32px;\n",
              "    }\n",
              "\n",
              "    .colab-df-convert:hover {\n",
              "      background-color: #E2EBFA;\n",
              "      box-shadow: 0px 1px 2px rgba(60, 64, 67, 0.3), 0px 1px 3px 1px rgba(60, 64, 67, 0.15);\n",
              "      fill: #174EA6;\n",
              "    }\n",
              "\n",
              "    .colab-df-buttons div {\n",
              "      margin-bottom: 4px;\n",
              "    }\n",
              "\n",
              "    [theme=dark] .colab-df-convert {\n",
              "      background-color: #3B4455;\n",
              "      fill: #D2E3FC;\n",
              "    }\n",
              "\n",
              "    [theme=dark] .colab-df-convert:hover {\n",
              "      background-color: #434B5C;\n",
              "      box-shadow: 0px 1px 3px 1px rgba(0, 0, 0, 0.15);\n",
              "      filter: drop-shadow(0px 1px 2px rgba(0, 0, 0, 0.3));\n",
              "      fill: #FFFFFF;\n",
              "    }\n",
              "  </style>\n",
              "\n",
              "    <script>\n",
              "      const buttonEl =\n",
              "        document.querySelector('#df-9593494d-3d99-4299-b519-d83bec889da9 button.colab-df-convert');\n",
              "      buttonEl.style.display =\n",
              "        google.colab.kernel.accessAllowed ? 'block' : 'none';\n",
              "\n",
              "      async function convertToInteractive(key) {\n",
              "        const element = document.querySelector('#df-9593494d-3d99-4299-b519-d83bec889da9');\n",
              "        const dataTable =\n",
              "          await google.colab.kernel.invokeFunction('convertToInteractive',\n",
              "                                                    [key], {});\n",
              "        if (!dataTable) return;\n",
              "\n",
              "        const docLinkHtml = 'Like what you see? Visit the ' +\n",
              "          '<a target=\"_blank\" href=https://colab.research.google.com/notebooks/data_table.ipynb>data table notebook</a>'\n",
              "          + ' to learn more about interactive tables.';\n",
              "        element.innerHTML = '';\n",
              "        dataTable['output_type'] = 'display_data';\n",
              "        await google.colab.output.renderOutput(dataTable, element);\n",
              "        const docLink = document.createElement('div');\n",
              "        docLink.innerHTML = docLinkHtml;\n",
              "        element.appendChild(docLink);\n",
              "      }\n",
              "    </script>\n",
              "  </div>\n",
              "\n",
              "\n",
              "<div id=\"df-fd250504-c221-4f9a-912e-bfedec18a785\">\n",
              "  <button class=\"colab-df-quickchart\" onclick=\"quickchart('df-fd250504-c221-4f9a-912e-bfedec18a785')\"\n",
              "            title=\"Suggest charts\"\n",
              "            style=\"display:none;\">\n",
              "\n",
              "<svg xmlns=\"http://www.w3.org/2000/svg\" height=\"24px\"viewBox=\"0 0 24 24\"\n",
              "     width=\"24px\">\n",
              "    <g>\n",
              "        <path d=\"M19 3H5c-1.1 0-2 .9-2 2v14c0 1.1.9 2 2 2h14c1.1 0 2-.9 2-2V5c0-1.1-.9-2-2-2zM9 17H7v-7h2v7zm4 0h-2V7h2v10zm4 0h-2v-4h2v4z\"/>\n",
              "    </g>\n",
              "</svg>\n",
              "  </button>\n",
              "\n",
              "<style>\n",
              "  .colab-df-quickchart {\n",
              "      --bg-color: #E8F0FE;\n",
              "      --fill-color: #1967D2;\n",
              "      --hover-bg-color: #E2EBFA;\n",
              "      --hover-fill-color: #174EA6;\n",
              "      --disabled-fill-color: #AAA;\n",
              "      --disabled-bg-color: #DDD;\n",
              "  }\n",
              "\n",
              "  [theme=dark] .colab-df-quickchart {\n",
              "      --bg-color: #3B4455;\n",
              "      --fill-color: #D2E3FC;\n",
              "      --hover-bg-color: #434B5C;\n",
              "      --hover-fill-color: #FFFFFF;\n",
              "      --disabled-bg-color: #3B4455;\n",
              "      --disabled-fill-color: #666;\n",
              "  }\n",
              "\n",
              "  .colab-df-quickchart {\n",
              "    background-color: var(--bg-color);\n",
              "    border: none;\n",
              "    border-radius: 50%;\n",
              "    cursor: pointer;\n",
              "    display: none;\n",
              "    fill: var(--fill-color);\n",
              "    height: 32px;\n",
              "    padding: 0;\n",
              "    width: 32px;\n",
              "  }\n",
              "\n",
              "  .colab-df-quickchart:hover {\n",
              "    background-color: var(--hover-bg-color);\n",
              "    box-shadow: 0 1px 2px rgba(60, 64, 67, 0.3), 0 1px 3px 1px rgba(60, 64, 67, 0.15);\n",
              "    fill: var(--button-hover-fill-color);\n",
              "  }\n",
              "\n",
              "  .colab-df-quickchart-complete:disabled,\n",
              "  .colab-df-quickchart-complete:disabled:hover {\n",
              "    background-color: var(--disabled-bg-color);\n",
              "    fill: var(--disabled-fill-color);\n",
              "    box-shadow: none;\n",
              "  }\n",
              "\n",
              "  .colab-df-spinner {\n",
              "    border: 2px solid var(--fill-color);\n",
              "    border-color: transparent;\n",
              "    border-bottom-color: var(--fill-color);\n",
              "    animation:\n",
              "      spin 1s steps(1) infinite;\n",
              "  }\n",
              "\n",
              "  @keyframes spin {\n",
              "    0% {\n",
              "      border-color: transparent;\n",
              "      border-bottom-color: var(--fill-color);\n",
              "      border-left-color: var(--fill-color);\n",
              "    }\n",
              "    20% {\n",
              "      border-color: transparent;\n",
              "      border-left-color: var(--fill-color);\n",
              "      border-top-color: var(--fill-color);\n",
              "    }\n",
              "    30% {\n",
              "      border-color: transparent;\n",
              "      border-left-color: var(--fill-color);\n",
              "      border-top-color: var(--fill-color);\n",
              "      border-right-color: var(--fill-color);\n",
              "    }\n",
              "    40% {\n",
              "      border-color: transparent;\n",
              "      border-right-color: var(--fill-color);\n",
              "      border-top-color: var(--fill-color);\n",
              "    }\n",
              "    60% {\n",
              "      border-color: transparent;\n",
              "      border-right-color: var(--fill-color);\n",
              "    }\n",
              "    80% {\n",
              "      border-color: transparent;\n",
              "      border-right-color: var(--fill-color);\n",
              "      border-bottom-color: var(--fill-color);\n",
              "    }\n",
              "    90% {\n",
              "      border-color: transparent;\n",
              "      border-bottom-color: var(--fill-color);\n",
              "    }\n",
              "  }\n",
              "</style>\n",
              "\n",
              "  <script>\n",
              "    async function quickchart(key) {\n",
              "      const quickchartButtonEl =\n",
              "        document.querySelector('#' + key + ' button');\n",
              "      quickchartButtonEl.disabled = true;  // To prevent multiple clicks.\n",
              "      quickchartButtonEl.classList.add('colab-df-spinner');\n",
              "      try {\n",
              "        const charts = await google.colab.kernel.invokeFunction(\n",
              "            'suggestCharts', [key], {});\n",
              "      } catch (error) {\n",
              "        console.error('Error during call to suggestCharts:', error);\n",
              "      }\n",
              "      quickchartButtonEl.classList.remove('colab-df-spinner');\n",
              "      quickchartButtonEl.classList.add('colab-df-quickchart-complete');\n",
              "    }\n",
              "    (() => {\n",
              "      let quickchartButtonEl =\n",
              "        document.querySelector('#df-fd250504-c221-4f9a-912e-bfedec18a785 button');\n",
              "      quickchartButtonEl.style.display =\n",
              "        google.colab.kernel.accessAllowed ? 'block' : 'none';\n",
              "    })();\n",
              "  </script>\n",
              "</div>\n",
              "    </div>\n",
              "  </div>\n"
            ],
            "application/vnd.google.colaboratory.intrinsic+json": {
              "type": "dataframe",
              "variable_name": "df",
              "summary": "{\n  \"name\": \"df\",\n  \"rows\": 5572,\n  \"fields\": [\n    {\n      \"column\": \"label\",\n      \"properties\": {\n        \"dtype\": \"number\",\n        \"std\": 0,\n        \"min\": 0,\n        \"max\": 1,\n        \"num_unique_values\": 2,\n        \"samples\": [\n          1,\n          0\n        ],\n        \"semantic_type\": \"\",\n        \"description\": \"\"\n      }\n    },\n    {\n      \"column\": \"text\",\n      \"properties\": {\n        \"dtype\": \"string\",\n        \"num_unique_values\": 5169,\n        \"samples\": [\n          \"Did u download the fring app?\",\n          \"Pass dis to all ur contacts n see wat u get! Red;i'm in luv wid u. Blue;u put a smile on my face. Purple;u r realy hot. Pink;u r so swt. Orange;i thnk i lyk u. Green;i realy wana go out wid u. Yelow;i wnt u bck. Black;i'm jealous of u. Brown;i miss you Nw plz giv me one color\"\n        ],\n        \"semantic_type\": \"\",\n        \"description\": \"\"\n      }\n    }\n  ]\n}"
            }
          },
          "metadata": {},
          "execution_count": 24
        }
      ]
    },
    {
      "cell_type": "markdown",
      "source": [
        "<ul>\n",
        "     <li>Набор данных состоит из двух столбцов — «метка» и «текст». Столбец «текст» содержит тело сообщения, а «метка» – это двоичная переменная, где 1 означает спам, а 0 означает, что сообщение не является спамом.</li>\n",
        "</ul>"
      ],
      "metadata": {
        "id": "huaBcb3aeyLe"
      }
    },
    {
      "cell_type": "markdown",
      "source": [
        "<b> Задание 1. Выведите распределение классов </b>"
      ],
      "metadata": {
        "id": "lPvyc6-FjpeA"
      }
    },
    {
      "cell_type": "code",
      "source": [
        "# ВАШ КОД\n",
        "class_distribution = df[\"label\"].value_counts()\n",
        "class_distribution"
      ],
      "metadata": {
        "id": "WDQgLhdcsyPu",
        "colab": {
          "base_uri": "https://localhost:8080/"
        },
        "outputId": "c65b3235-ff8a-4c83-da68-e10b2e5fb273"
      },
      "execution_count": null,
      "outputs": [
        {
          "output_type": "execute_result",
          "data": {
            "text/plain": [
              "0    4825\n",
              "1     747\n",
              "Name: label, dtype: int64"
            ]
          },
          "metadata": {},
          "execution_count": 25
        }
      ]
    },
    {
      "cell_type": "markdown",
      "source": [
        "<h1>2. Раздедение набора данных на train / test</h1>"
      ],
      "metadata": {
        "id": "ct--7E_oeyLf"
      }
    },
    {
      "cell_type": "markdown",
      "source": [
        "<b> Задание 2. Разделите набор данных на train, val, и test. </b>\n",
        "\n",
        "Целевая колонка label. используйте random_state=2018 и размер Обучаюзей выборки 0.7. Валидационная в данном случае будет равна по размеру тестовой.\n",
        "\n",
        "названия полученных наборов: train/val/test_text. train/val/test_labels"
      ],
      "metadata": {
        "id": "KQ7UzyvpkGDr"
      }
    },
    {
      "cell_type": "code",
      "source": [
        "# split train dataset into train, validation and test sets\n",
        "train_text, temp_text, train_labels, temp_labels = train_test_split(df['text'], df['label'],\n",
        "                                                                    random_state=2018,\n",
        "                                                                    test_size=0.3,\n",
        "                                                                    stratify=df['label'])\n",
        "\n",
        "\n",
        "val_text, test_text, val_labels, test_labels = train_test_split(temp_text, temp_labels,\n",
        "                                                                random_state=2018,\n",
        "                                                                test_size=0.5,\n",
        "                                                                stratify=temp_labels)"
      ],
      "metadata": {
        "execution": {
          "iopub.status.busy": "2021-05-20T12:16:46.732938Z",
          "iopub.execute_input": "2021-05-20T12:16:46.733295Z",
          "iopub.status.idle": "2021-05-20T12:16:46.749012Z",
          "shell.execute_reply.started": "2021-05-20T12:16:46.733265Z",
          "shell.execute_reply": "2021-05-20T12:16:46.748078Z"
        },
        "trusted": true,
        "id": "pGoSCzHVeyLf"
      },
      "execution_count": null,
      "outputs": []
    },
    {
      "cell_type": "markdown",
      "source": [
        "<h1>3. Загрузка bert-base-uncased</h1>"
      ],
      "metadata": {
        "id": "7tQ92nNGeyLf"
      }
    },
    {
      "cell_type": "markdown",
      "source": [
        "<b> Задание 3. Воспользуйтесь методом from_pretrained от AutoModel и BertTokenizerFast для загрузки модели </b>"
      ],
      "metadata": {
        "id": "QjrWbKHOlWPl"
      }
    },
    {
      "cell_type": "code",
      "source": [
        "# BERT-base pretrained model\n",
        "bert = AutoModel.from_pretrained(\"bert-base-uncased\")\n",
        "\n",
        "# BERT tokenizer\n",
        "tokenizer = BertTokenizerFast.from_pretrained(\"bert-base-uncased\")"
      ],
      "metadata": {
        "execution": {
          "iopub.status.busy": "2021-05-20T11:49:24.186902Z",
          "iopub.execute_input": "2021-05-20T11:49:24.187240Z",
          "iopub.status.idle": "2021-05-20T11:50:15.137513Z",
          "shell.execute_reply.started": "2021-05-20T11:49:24.187212Z",
          "shell.execute_reply": "2021-05-20T11:50:15.135994Z"
        },
        "trusted": true,
        "colab": {
          "referenced_widgets": [
            "091b6a55565e407e93c29d42ec380269",
            "f57ea92f479f40b7b1b34981e6622701",
            "e21dab2fd7b140adb6c204331b79c9e3",
            "6859a7dd276c4698ba08dc78e79abd28",
            "2fa68e411b1f4bbdb43e4973c0bb7ce9",
            "b812bb6ab70c48e68d3eab1ceae9cb42",
            "3675c0ca8339448391084299ff41a6a0",
            "82659b5ee0ce49bcb832e939d29005f8",
            "f0492ec4e9c34e02aa4a3d67f4476a95",
            "7043889a0d3149f5b7362c3a7bbbe1e8",
            "0154290d065645dbb4d24b568782ec55",
            "de656bea296a47a1b0f07affe6325f1c",
            "9bb86f03bac14228b5a2515bf3da7801",
            "dd740583dd9e4718ae4d27fa99e0a4ad",
            "d58cb9c21a0e43cdba5f7667463df4f2",
            "9635049b27f141f5ba372c85a8e09a93",
            "6fedfa9c73c74a5a870c4ee386385ccc",
            "4d2945c1d04d43ce85ff47892f8b01d0",
            "97029cff364b490495512a68b33f03ee",
            "b3440749256741fba8ec32fc308604ee",
            "8e7b52a22f2d4713bdbc0721d08c02ab",
            "f5039f34a68b4d9a8136ec786840508b",
            "a67bb910076b4b298442bf2073c516c4",
            "fee2c4761e0640519e866f9ffe97bfd7",
            "d39fd408249f49e9bfe2edd7cdc3737b",
            "e716b2eeec134302a7cd57629d18b6ec",
            "434690b9462745709ab6db70dfa7b559",
            "13c2355304b74ae385848fe03bba2ea4",
            "82c618c57a1f48f9a6f15780c701c776",
            "1bd87b4c1ff3422db0efc2e7bebb24f8",
            "fb913837b3cc46d99469df4d81a63677",
            "8d67a86e50b746b5825533c1f5736645",
            "dfd045a3bc474effa55f9178622ee82e",
            "e93c0e5eed35443194ed388777406bff",
            "094a3113c73c4300a9c837b356fdb3bc",
            "818b67f038c74a589938b7bbcc7e9d91",
            "9f34c722f5d040a7a8adf7c6d6e77f11",
            "9ef0a670b06c4544b39abd907fa0300e",
            "2bf2099ff8b44fd687a665c4a74fdb64",
            "b16b7ee9d1254c4abf7f86fc81afb982",
            "bba5edc9d37343e6b93c218afdbac669",
            "bd02792058154b69940b8c955852d33a",
            "1e33708d64c44e3192340d11cf91c0d5",
            "fcf85ac690c641909bb173dbceeeec17",
            "d72b9e189b2e4f328638fddeb2bfe08a",
            "029d780812db48ee9daed55102e1fd4e",
            "ef6121c98bb141898cd5fbe02a501b81",
            "4f78e40117ee4d799d32852379ebe1bd",
            "b1b7f0f2d65e491f8a6e7309d19af5e0",
            "bdc37544d2c744bab76a83cc18f7a7b6",
            "76d9d07c07ef481eaf83e2f738375544",
            "f1a5cd5371774cf1b423f077906a685e",
            "291bee3de2e24abb9d91532129e07e4c",
            "67e07999635b418facc21c07a5a22ecd",
            "58513bb2dae9466e95d6ac6e8d7305b0"
          ],
          "base_uri": "https://localhost:8080/",
          "height": 304
        },
        "id": "dIS6ttueeyLf",
        "outputId": "22534864-473e-45b6-9622-a77312c5792a"
      },
      "execution_count": null,
      "outputs": [
        {
          "output_type": "stream",
          "name": "stderr",
          "text": [
            "/usr/local/lib/python3.10/dist-packages/huggingface_hub/utils/_token.py:88: UserWarning: \n",
            "The secret `HF_TOKEN` does not exist in your Colab secrets.\n",
            "To authenticate with the Hugging Face Hub, create a token in your settings tab (https://huggingface.co/settings/tokens), set it as secret in your Google Colab and restart your session.\n",
            "You will be able to reuse this secret in all of your notebooks.\n",
            "Please note that authentication is recommended but still optional to access public models or datasets.\n",
            "  warnings.warn(\n"
          ]
        },
        {
          "output_type": "display_data",
          "data": {
            "text/plain": [
              "config.json:   0%|          | 0.00/570 [00:00<?, ?B/s]"
            ],
            "application/vnd.jupyter.widget-view+json": {
              "version_major": 2,
              "version_minor": 0,
              "model_id": "091b6a55565e407e93c29d42ec380269"
            }
          },
          "metadata": {}
        },
        {
          "output_type": "display_data",
          "data": {
            "text/plain": [
              "model.safetensors:   0%|          | 0.00/440M [00:00<?, ?B/s]"
            ],
            "application/vnd.jupyter.widget-view+json": {
              "version_major": 2,
              "version_minor": 0,
              "model_id": "de656bea296a47a1b0f07affe6325f1c"
            }
          },
          "metadata": {}
        },
        {
          "output_type": "display_data",
          "data": {
            "text/plain": [
              "tokenizer_config.json:   0%|          | 0.00/48.0 [00:00<?, ?B/s]"
            ],
            "application/vnd.jupyter.widget-view+json": {
              "version_major": 2,
              "version_minor": 0,
              "model_id": "a67bb910076b4b298442bf2073c516c4"
            }
          },
          "metadata": {}
        },
        {
          "output_type": "display_data",
          "data": {
            "text/plain": [
              "vocab.txt:   0%|          | 0.00/232k [00:00<?, ?B/s]"
            ],
            "application/vnd.jupyter.widget-view+json": {
              "version_major": 2,
              "version_minor": 0,
              "model_id": "e93c0e5eed35443194ed388777406bff"
            }
          },
          "metadata": {}
        },
        {
          "output_type": "display_data",
          "data": {
            "text/plain": [
              "tokenizer.json:   0%|          | 0.00/466k [00:00<?, ?B/s]"
            ],
            "application/vnd.jupyter.widget-view+json": {
              "version_major": 2,
              "version_minor": 0,
              "model_id": "d72b9e189b2e4f328638fddeb2bfe08a"
            }
          },
          "metadata": {}
        }
      ]
    },
    {
      "cell_type": "markdown",
      "source": [
        "<b> Задание 4. Выведите распредление длины всех сообщений для обучающей выборки </b>\n",
        "\n",
        "Делать разбиение слов по пробелам"
      ],
      "metadata": {
        "id": "d7JjpvO4lHDy"
      }
    },
    {
      "cell_type": "code",
      "source": [
        "# ВАШ КОД\n",
        "\n",
        "import matplotlib.pyplot as plt\n",
        "\n",
        "# Построение гистограммы распределения длины сообщений\n",
        "len_mes = train_text.apply(lambda x: len(x.split()))\n",
        "plt.hist(len_mes, bins='auto', color='skyblue', edgecolor='black')\n",
        "plt.title('Распределение длины сообщений')\n",
        "plt.xlabel('Длина сообщения')\n",
        "plt.ylabel('Количество сообщений')\n",
        "plt.show()"
      ],
      "metadata": {
        "execution": {
          "iopub.status.busy": "2021-05-20T12:16:50.490321Z",
          "iopub.execute_input": "2021-05-20T12:16:50.490642Z",
          "iopub.status.idle": "2021-05-20T12:16:50.677576Z",
          "shell.execute_reply.started": "2021-05-20T12:16:50.490613Z",
          "shell.execute_reply": "2021-05-20T12:16:50.676797Z"
        },
        "trusted": true,
        "id": "F-PpdGFIeyLf",
        "colab": {
          "base_uri": "https://localhost:8080/",
          "height": 472
        },
        "outputId": "f39c1a32-35d8-4833-d621-bfa55d0644c1"
      },
      "execution_count": null,
      "outputs": [
        {
          "output_type": "display_data",
          "data": {
            "text/plain": [
              "<Figure size 640x480 with 1 Axes>"
            ],
            "image/png": "[encoded data removed]"
          },
          "metadata": {}
        }
      ]
    },
    {
      "cell_type": "markdown",
      "source": [
        "<h1>4. Токенизация и кодирование последовательностей</h1>"
      ],
      "metadata": {
        "id": "JtKo0gk0eyLf"
      }
    },
    {
      "cell_type": "markdown",
      "source": [
        "<h1>4. Токенизация <u><h2 >Какая стратегия токенизации используется BERT?</h2></u>\n",
        "\n",
        "<p >BERT использует токенизацию WordPiece. Словарь инициализируется всеми отдельными символами языка, а затем итеративно добавляются наиболее частые/вероятные комбинации существующих слов в словаре.</p>\n",
        "<br>\n",
        "<u><h2>Какова максимальная длина последовательности входных данных?</h2></u>\n",
        "\n",
        "<p>Максимальная длина входной последовательности = 512</p>Кодируйте последовательности</h1>"
      ],
      "metadata": {
        "id": "zMej9hdveyLf"
      }
    },
    {
      "cell_type": "markdown",
      "source": [
        "<b> Задание 5. Заполните пропуски </b>"
      ],
      "metadata": {
        "id": "lQR5F7zCmDRP"
      }
    },
    {
      "cell_type": "code",
      "source": [
        "# tokenize and encode sequences in the training set\n",
        "tokens_train = tokenizer.batch_encode_plus(\n",
        "    train_text.tolist(),\n",
        "    max_length = 25,\n",
        "    pad_to_max_length=True,\n",
        "    truncation=True\n",
        ")\n",
        "\n",
        "# tokenize and encode sequences in the validation set\n",
        "tokens_val = tokenizer.batch_encode_plus(\n",
        "    val_text.tolist(),\n",
        "    max_length=25,\n",
        "    pad_to_max_length=True,\n",
        "    truncation=True,\n",
        ")\n",
        "\n",
        "# tokenize and encode sequences in the test set\n",
        "tokens_test = tokenizer.batch_encode_plus(\n",
        "    test_text.tolist(),\n",
        "    max_length = 25,\n",
        "    pad_to_max_length=True,\n",
        "    truncation=True\n",
        ")"
      ],
      "metadata": {
        "execution": {
          "iopub.status.busy": "2021-05-20T12:16:51.367515Z",
          "iopub.execute_input": "2021-05-20T12:16:51.367829Z",
          "iopub.status.idle": "2021-05-20T12:16:52.037957Z",
          "shell.execute_reply.started": "2021-05-20T12:16:51.367800Z",
          "shell.execute_reply": "2021-05-20T12:16:52.037114Z"
        },
        "trusted": true,
        "id": "Vnl49nSEeyLf",
        "colab": {
          "base_uri": "https://localhost:8080/"
        },
        "outputId": "d9473f9f-7d69-4e80-e8d0-82281ac9611e"
      },
      "execution_count": null,
      "outputs": [
        {
          "output_type": "stream",
          "name": "stderr",
          "text": [
            "/usr/local/lib/python3.10/dist-packages/transformers/tokenization_utils_base.py:2645: FutureWarning: The `pad_to_max_length` argument is deprecated and will be removed in a future version, use `padding=True` or `padding='longest'` to pad to the longest sequence in the batch, or use `padding='max_length'` to pad to a max length. In this case, you can give a specific length with `max_length` (e.g. `max_length=45`) or leave max_length to None to pad to the maximal input size of the model (e.g. 512 for Bert).\n",
            "  warnings.warn(\n"
          ]
        }
      ]
    },
    {
      "cell_type": "markdown",
      "source": [
        "<h1>5. Преобразование списков в тензоры</h1>"
      ],
      "metadata": {
        "id": "XZWDS8CneyLf"
      }
    },
    {
      "cell_type": "code",
      "source": [
        "## convert lists to tensors\n",
        "\n",
        "train_seq = torch.tensor(tokens_train['input_ids'])\n",
        "train_mask = torch.tensor(tokens_train['attention_mask'])\n",
        "train_y = torch.tensor(train_labels.tolist())\n",
        "\n",
        "val_seq = torch.tensor(tokens_val['input_ids'])\n",
        "val_mask = torch.tensor(tokens_val['attention_mask'])\n",
        "val_y = torch.tensor(val_labels.tolist())\n",
        "\n",
        "test_seq = torch.tensor(tokens_test['input_ids'])\n",
        "test_mask = torch.tensor(tokens_test['attention_mask'])\n",
        "test_y = torch.tensor(test_labels.tolist())"
      ],
      "metadata": {
        "execution": {
          "iopub.status.busy": "2021-05-20T12:16:52.707085Z",
          "iopub.execute_input": "2021-05-20T12:16:52.707444Z",
          "iopub.status.idle": "2021-05-20T12:16:52.744645Z",
          "shell.execute_reply.started": "2021-05-20T12:16:52.707415Z",
          "shell.execute_reply": "2021-05-20T12:16:52.743449Z"
        },
        "trusted": true,
        "id": "Z00idhJVeyLf"
      },
      "execution_count": null,
      "outputs": []
    },
    {
      "cell_type": "markdown",
      "source": [
        "<h1 style=\"font-size:200%; font-family:cursive; color:navy;\">6. Data Loader</h1>"
      ],
      "metadata": {
        "id": "hL_ygk4feyLf"
      }
    },
    {
      "cell_type": "code",
      "source": [
        "from torch.utils.data import TensorDataset, DataLoader, RandomSampler, SequentialSampler\n",
        "\n",
        "# Задайте размер батча (могут быть трудности с вычислительными ресурсами при большом значении)\n",
        "batch_size = 16\n",
        "\n",
        "# wrap tensors\n",
        "train_data = TensorDataset(train_seq, train_mask, train_y)\n",
        "\n",
        "# sampler for sampling the data during training\n",
        "train_sampler = RandomSampler(train_data)\n",
        "\n",
        "# dataLoader for train set\n",
        "train_dataloader = DataLoader(train_data, sampler=train_sampler, batch_size=batch_size)\n",
        "\n",
        "# wrap tensors\n",
        "val_data = TensorDataset(val_seq, val_mask, val_y)\n",
        "\n",
        "# sampler for sampling the data during training\n",
        "val_sampler = SequentialSampler(val_data)\n",
        "\n",
        "# dataLoader for validation set\n",
        "val_dataloader = DataLoader(val_data, sampler = val_sampler, batch_size=batch_size)"
      ],
      "metadata": {
        "execution": {
          "iopub.status.busy": "2021-05-20T12:16:54.072724Z",
          "iopub.execute_input": "2021-05-20T12:16:54.073069Z",
          "iopub.status.idle": "2021-05-20T12:16:54.079387Z",
          "shell.execute_reply.started": "2021-05-20T12:16:54.073019Z",
          "shell.execute_reply": "2021-05-20T12:16:54.078289Z"
        },
        "trusted": true,
        "id": "9A5oAavmeyLf"
      },
      "execution_count": null,
      "outputs": []
    },
    {
      "cell_type": "markdown",
      "source": [
        "<h1>7. Архитектура модели</h1>"
      ],
      "metadata": {
        "id": "DNCZrMpKeyLf"
      }
    },
    {
      "cell_type": "markdown",
      "source": [
        "В данном пункте заменяются последние слои для решения задачи классификации"
      ],
      "metadata": {
        "id": "ikgSpD4Hmvqi"
      }
    },
    {
      "cell_type": "code",
      "source": [
        "# Заморозка всех параметров\n",
        "for param in bert.parameters():\n",
        "    param.requires_grad = False"
      ],
      "metadata": {
        "execution": {
          "iopub.status.busy": "2021-05-20T12:16:55.343359Z",
          "iopub.execute_input": "2021-05-20T12:16:55.343696Z",
          "iopub.status.idle": "2021-05-20T12:16:55.349996Z",
          "shell.execute_reply.started": "2021-05-20T12:16:55.343669Z",
          "shell.execute_reply": "2021-05-20T12:16:55.348883Z"
        },
        "trusted": true,
        "id": "AJnEbFZteyLg"
      },
      "execution_count": null,
      "outputs": []
    },
    {
      "cell_type": "markdown",
      "source": [
        "<b> Задание 6. Задайте параметры выходного слоя </b>"
      ],
      "metadata": {
        "id": "ZY6VWLK3nAs5"
      }
    },
    {
      "cell_type": "code",
      "source": [
        "class BERT_Arch(nn.Module):\n",
        "\n",
        "    def __init__(self, bert):\n",
        "        super(BERT_Arch, self).__init__()\n",
        "\n",
        "        self.bert = bert\n",
        "\n",
        "        # dropout layer\n",
        "        self.dropout = nn.Dropout(0.1)\n",
        "\n",
        "        # relu activation function\n",
        "        self.relu =  nn.ReLU()\n",
        "\n",
        "        # dense layer 1\n",
        "        self.fc1 = nn.Linear(768,512)\n",
        "\n",
        "        # dense layer 2 (Output layer)\n",
        "        self.fc2 = nn.Linear(512, 2) # Задайте параметры выходного слоя\n",
        "\n",
        "        #softmax activation function\n",
        "        self.softmax = nn.LogSoftmax(dim=1)\n",
        "\n",
        "    #define the forward pass\n",
        "    def forward(self, sent_id, mask):\n",
        "\n",
        "        #pass the inputs to the model\n",
        "        _, cls_hs = self.bert(sent_id, attention_mask=mask, return_dict=False)\n",
        "\n",
        "        x = self.fc1(cls_hs)\n",
        "\n",
        "        x = self.relu(x)\n",
        "\n",
        "        x = self.dropout(x)\n",
        "\n",
        "        # output layer\n",
        "        x = self.fc2(x)\n",
        "\n",
        "        # apply softmax activation\n",
        "        x = self.softmax(x)\n",
        "\n",
        "        return x"
      ],
      "metadata": {
        "execution": {
          "iopub.status.busy": "2021-05-20T12:23:02.993890Z",
          "iopub.execute_input": "2021-05-20T12:23:02.994288Z",
          "iopub.status.idle": "2021-05-20T12:23:03.006243Z",
          "shell.execute_reply.started": "2021-05-20T12:23:02.994244Z",
          "shell.execute_reply": "2021-05-20T12:23:03.005349Z"
        },
        "trusted": true,
        "id": "b1HGy162eyLg"
      },
      "execution_count": null,
      "outputs": []
    },
    {
      "cell_type": "code",
      "source": [
        "# применяем исходную модель к нашей измененной\n",
        "model = BERT_Arch(bert)\n",
        "\n",
        "# Перенесите модель на GPU\n",
        "model = model.to('cuda')"
      ],
      "metadata": {
        "execution": {
          "iopub.status.busy": "2021-05-20T12:23:03.952902Z",
          "iopub.execute_input": "2021-05-20T12:23:03.953226Z",
          "iopub.status.idle": "2021-05-20T12:23:03.968064Z",
          "shell.execute_reply.started": "2021-05-20T12:23:03.953198Z",
          "shell.execute_reply": "2021-05-20T12:23:03.967316Z"
        },
        "trusted": true,
        "id": "EG24iW51eyLg"
      },
      "execution_count": null,
      "outputs": []
    },
    {
      "cell_type": "code",
      "source": [
        "if torch.cuda.is_available():\n",
        "    model = model.to('cuda')\n",
        "    print(\"Модель перенесена на GPU.\")\n",
        "else:\n",
        "    print(\"CUDA не доступен, модель будет использовать CPU.\")"
      ],
      "metadata": {
        "colab": {
          "base_uri": "https://localhost:8080/"
        },
        "id": "b3gsf1X8ndXQ",
        "outputId": "0e143661-7059-4804-e09e-16aa6f7c9184"
      },
      "execution_count": null,
      "outputs": [
        {
          "output_type": "stream",
          "name": "stdout",
          "text": [
            "Модель перенесена на GPU.\n"
          ]
        }
      ]
    },
    {
      "cell_type": "code",
      "source": [
        "# Настройка оптимизатора\n",
        "from transformers import AdamW\n",
        "\n",
        "optimizer = AdamW(model.parameters(),lr = 1e-5)"
      ],
      "metadata": {
        "execution": {
          "iopub.status.busy": "2021-05-20T12:23:04.903449Z",
          "iopub.execute_input": "2021-05-20T12:23:04.903784Z",
          "iopub.status.idle": "2021-05-20T12:23:04.910844Z",
          "shell.execute_reply.started": "2021-05-20T12:23:04.903750Z",
          "shell.execute_reply": "2021-05-20T12:23:04.909852Z"
        },
        "trusted": true,
        "id": "CVlcT9RpeyLg"
      },
      "execution_count": null,
      "outputs": []
    },
    {
      "cell_type": "code",
      "source": [
        "from sklearn.utils.class_weight import compute_class_weight\n",
        "\n",
        "# Вычисление веса класса для учета дисбаланса\n",
        "class_weights = compute_class_weight(class_weight = \"balanced\",\n",
        "                                    classes = np.unique(train_labels),\n",
        "                                    y=train_labels)\n",
        "\n",
        "print(\"Class Weights:\",class_weights)"
      ],
      "metadata": {
        "execution": {
          "iopub.status.busy": "2021-05-20T12:23:05.840224Z",
          "iopub.execute_input": "2021-05-20T12:23:05.840566Z",
          "iopub.status.idle": "2021-05-20T12:23:05.849927Z",
          "shell.execute_reply.started": "2021-05-20T12:23:05.840537Z",
          "shell.execute_reply": "2021-05-20T12:23:05.848870Z"
        },
        "trusted": true,
        "id": "RthwThxYeyLg",
        "colab": {
          "base_uri": "https://localhost:8080/"
        },
        "outputId": "73af1d19-265f-4e64-aef5-d1e623156617"
      },
      "execution_count": null,
      "outputs": [
        {
          "output_type": "stream",
          "name": "stdout",
          "text": [
            "Class Weights: [0.57743559 3.72848948]\n"
          ]
        }
      ]
    },
    {
      "cell_type": "code",
      "source": [
        "# преобразование списка весов классов в тензор\n",
        "weights= torch.tensor(class_weights,dtype=torch.float)\n",
        "\n",
        "# перенос на GPU\n",
        "weights = weights.to(device)\n",
        "\n",
        "# Определение функции потерь\n",
        "cross_entropy  = nn.NLLLoss(weight=weights)\n",
        "\n",
        "# Задайте число эпох\n",
        "epochs = 25"
      ],
      "metadata": {
        "execution": {
          "iopub.status.busy": "2021-05-20T12:23:06.962150Z",
          "iopub.execute_input": "2021-05-20T12:23:06.962480Z",
          "iopub.status.idle": "2021-05-20T12:23:06.967108Z",
          "shell.execute_reply.started": "2021-05-20T12:23:06.962452Z",
          "shell.execute_reply": "2021-05-20T12:23:06.966225Z"
        },
        "trusted": true,
        "id": "po7bjSK0eyLg"
      },
      "execution_count": null,
      "outputs": []
    },
    {
      "cell_type": "markdown",
      "source": [
        "<h1 style=\"font-size:200%; font-family:cursive; color:navy;\">8. Fine - Tune</h1>"
      ],
      "metadata": {
        "id": "P2LKCH5veyLg"
      }
    },
    {
      "cell_type": "code",
      "source": [
        "# Функция для обучения модели\n",
        "def train():\n",
        "\n",
        "    model.train()\n",
        "    total_loss, total_accuracy = 0, 0\n",
        "\n",
        "    # empty list to save model predictions\n",
        "    total_preds = []\n",
        "\n",
        "    # iterate over batches\n",
        "    for step,batch in enumerate(train_dataloader):\n",
        "\n",
        "        # progress update after every 50 batches.\n",
        "        if step % 50 == 0 and not step == 0:\n",
        "            print('  Batch {:>5,}  of  {:>5,}.'.format(step, len(train_dataloader)))\n",
        "\n",
        "        # push the batch to gpu\n",
        "        batch = [r.to(device) for r in batch]\n",
        "\n",
        "        sent_id, mask, labels = batch\n",
        "\n",
        "        # clear previously calculated gradients\n",
        "        model.zero_grad()\n",
        "\n",
        "        # get model predictions for the current batch\n",
        "        preds = model(sent_id, mask)\n",
        "\n",
        "        # compute the loss between actual and predicted values\n",
        "        loss = cross_entropy(preds, labels)\n",
        "\n",
        "        # add on to the total loss\n",
        "        total_loss = total_loss + loss.item()\n",
        "\n",
        "        # backward pass to calculate the gradients\n",
        "        loss.backward()\n",
        "\n",
        "        # clip the the gradients to 1.0. It helps in preventing the exploding gradient problem\n",
        "        torch.nn.utils.clip_grad_norm_(model.parameters(), 1.0)\n",
        "\n",
        "        # update parameters\n",
        "        optimizer.step()\n",
        "\n",
        "        # model predictions are stored on GPU. So, push it to CPU\n",
        "        preds=preds.detach().cpu().numpy()\n",
        "\n",
        "    # append the model predictions\n",
        "    total_preds.append(preds)\n",
        "\n",
        "    # compute the training loss of the epoch\n",
        "    avg_loss = total_loss / len(train_dataloader)\n",
        "\n",
        "      # predictions are in the form of (no. of batches, size of batch, no. of classes).\n",
        "      # reshape the predictions in form of (number of samples, no. of classes)\n",
        "    total_preds  = np.concatenate(total_preds, axis=0)\n",
        "\n",
        "    #returns the loss and predictions\n",
        "    return avg_loss, total_preds"
      ],
      "metadata": {
        "execution": {
          "iopub.status.busy": "2021-05-20T12:23:08.232922Z",
          "iopub.execute_input": "2021-05-20T12:23:08.233269Z",
          "iopub.status.idle": "2021-05-20T12:23:08.241591Z",
          "shell.execute_reply.started": "2021-05-20T12:23:08.233239Z",
          "shell.execute_reply": "2021-05-20T12:23:08.240484Z"
        },
        "trusted": true,
        "id": "Hk0gnlGUeyLg"
      },
      "execution_count": null,
      "outputs": []
    },
    {
      "cell_type": "code",
      "source": [
        "# Функция для оценки модели\n",
        "def evaluate():\n",
        "\n",
        "    print(\"\\nEvaluating...\")\n",
        "\n",
        "    # deactivate dropout layers\n",
        "    model.eval()\n",
        "\n",
        "    total_loss, total_accuracy = 0, 0\n",
        "\n",
        "    # empty list to save the model predictions\n",
        "    total_preds = []\n",
        "\n",
        "    # iterate over batches\n",
        "    for step,batch in enumerate(val_dataloader):\n",
        "\n",
        "        # Progress update every 50 batches.\n",
        "        if step % 50 == 0 and not step == 0:\n",
        "\n",
        "            # Calculate elapsed time in minutes.\n",
        "            #elapsed = format_time(time.time() - t0)\n",
        "\n",
        "            # Report progress.\n",
        "            print('  Batch {:>5,}  of  {:>5,}.'.format(step, len(val_dataloader)))\n",
        "\n",
        "        # push the batch to gpu\n",
        "        batch = [t.to(device) for t in batch]\n",
        "\n",
        "        sent_id, mask, labels = batch\n",
        "\n",
        "        # deactivate autograd\n",
        "        with torch.no_grad():\n",
        "\n",
        "            # model predictions\n",
        "            preds = model(sent_id, mask)\n",
        "\n",
        "            # compute the validation loss between actual and predicted values\n",
        "            loss = cross_entropy(preds,labels)\n",
        "\n",
        "            total_loss = total_loss + loss.item()\n",
        "\n",
        "            preds = preds.detach().cpu().numpy()\n",
        "\n",
        "            total_preds.append(preds)\n",
        "\n",
        "    # compute the validation loss of the epoch\n",
        "    avg_loss = total_loss / len(val_dataloader)\n",
        "\n",
        "    # reshape the predictions in form of (number of samples, no. of classes)\n",
        "    total_preds  = np.concatenate(total_preds, axis=0)\n",
        "\n",
        "    return avg_loss, total_preds"
      ],
      "metadata": {
        "execution": {
          "iopub.status.busy": "2021-05-20T12:23:09.063641Z",
          "iopub.execute_input": "2021-05-20T12:23:09.063944Z",
          "iopub.status.idle": "2021-05-20T12:23:09.073677Z",
          "shell.execute_reply.started": "2021-05-20T12:23:09.063916Z",
          "shell.execute_reply": "2021-05-20T12:23:09.070943Z"
        },
        "trusted": true,
        "id": "J-HNLUHDeyLh"
      },
      "execution_count": null,
      "outputs": []
    },
    {
      "cell_type": "code",
      "source": [
        "# set initial loss to infinite\n",
        "best_valid_loss = float('inf')\n",
        "\n",
        "# empty lists to store training and validation loss of each epoch\n",
        "train_losses=[]\n",
        "valid_losses=[]\n",
        "\n",
        "#for each epoch\n",
        "for epoch in range(epochs):\n",
        "\n",
        "    print('\\n Epoch {:} / {:}'.format(epoch + 1, epochs))\n",
        "\n",
        "    #train model\n",
        "    train_loss, _ = train()\n",
        "\n",
        "    #evaluate model\n",
        "    valid_loss, _ = evaluate()\n",
        "\n",
        "    #save the best model\n",
        "    if valid_loss < best_valid_loss:\n",
        "        best_valid_loss = valid_loss\n",
        "        torch.save(model.state_dict(), 'saved_weights.pt')\n",
        "\n",
        "    # append training and validation loss\n",
        "    train_losses.append(train_loss)\n",
        "    valid_losses.append(valid_loss)\n",
        "\n",
        "    print(f'\\nTraining Loss: {train_loss:.3f}')\n",
        "    print(f'Validation Loss: {valid_loss:.3f}')"
      ],
      "metadata": {
        "execution": {
          "iopub.status.busy": "2021-05-20T12:23:09.896772Z",
          "iopub.execute_input": "2021-05-20T12:23:09.897241Z",
          "iopub.status.idle": "2021-05-20T12:24:20.568390Z",
          "shell.execute_reply.started": "2021-05-20T12:23:09.897201Z",
          "shell.execute_reply": "2021-05-20T12:24:20.567287Z"
        },
        "trusted": true,
        "id": "rTdojqH_eyLh",
        "colab": {
          "base_uri": "https://localhost:8080/"
        },
        "outputId": "31030009-3633-4c55-c2d2-ef5dd64dc463"
      },
      "execution_count": null,
      "outputs": [
        {
          "output_type": "stream",
          "name": "stdout",
          "text": [
            "\n",
            " Epoch 1 / 25\n",
            "  Batch    50  of    244.\n",
            "  Batch   100  of    244.\n",
            "  Batch   150  of    244.\n",
            "  Batch   200  of    244.\n",
            "\n",
            "Evaluating...\n",
            "  Batch    50  of     53.\n",
            "\n",
            "Training Loss: 0.554\n",
            "Validation Loss: 0.528\n",
            "\n",
            " Epoch 2 / 25\n",
            "  Batch    50  of    244.\n",
            "  Batch   100  of    244.\n",
            "  Batch   150  of    244.\n",
            "  Batch   200  of    244.\n",
            "\n",
            "Evaluating...\n",
            "  Batch    50  of     53.\n",
            "\n",
            "Training Loss: 0.525\n",
            "Validation Loss: 0.498\n",
            "\n",
            " Epoch 3 / 25\n",
            "  Batch    50  of    244.\n",
            "  Batch   100  of    244.\n",
            "  Batch   150  of    244.\n",
            "  Batch   200  of    244.\n",
            "\n",
            "Evaluating...\n",
            "  Batch    50  of     53.\n",
            "\n",
            "Training Loss: 0.498\n",
            "Validation Loss: 0.475\n",
            "\n",
            " Epoch 4 / 25\n",
            "  Batch    50  of    244.\n",
            "  Batch   100  of    244.\n",
            "  Batch   150  of    244.\n",
            "  Batch   200  of    244.\n",
            "\n",
            "Evaluating...\n",
            "  Batch    50  of     53.\n",
            "\n",
            "Training Loss: 0.480\n",
            "Validation Loss: 0.448\n",
            "\n",
            " Epoch 5 / 25\n",
            "  Batch    50  of    244.\n",
            "  Batch   100  of    244.\n",
            "  Batch   150  of    244.\n",
            "  Batch   200  of    244.\n",
            "\n",
            "Evaluating...\n",
            "  Batch    50  of     53.\n",
            "\n",
            "Training Loss: 0.453\n",
            "Validation Loss: 0.427\n",
            "\n",
            " Epoch 6 / 25\n",
            "  Batch    50  of    244.\n",
            "  Batch   100  of    244.\n",
            "  Batch   150  of    244.\n",
            "  Batch   200  of    244.\n",
            "\n",
            "Evaluating...\n",
            "  Batch    50  of     53.\n",
            "\n",
            "Training Loss: 0.437\n",
            "Validation Loss: 0.408\n",
            "\n",
            " Epoch 7 / 25\n",
            "  Batch    50  of    244.\n",
            "  Batch   100  of    244.\n",
            "  Batch   150  of    244.\n",
            "  Batch   200  of    244.\n",
            "\n",
            "Evaluating...\n",
            "  Batch    50  of     53.\n",
            "\n",
            "Training Loss: 0.424\n",
            "Validation Loss: 0.393\n",
            "\n",
            " Epoch 8 / 25\n",
            "  Batch    50  of    244.\n",
            "  Batch   100  of    244.\n",
            "  Batch   150  of    244.\n",
            "  Batch   200  of    244.\n",
            "\n",
            "Evaluating...\n",
            "  Batch    50  of     53.\n",
            "\n",
            "Training Loss: 0.405\n",
            "Validation Loss: 0.376\n",
            "\n",
            " Epoch 9 / 25\n",
            "  Batch    50  of    244.\n",
            "  Batch   100  of    244.\n",
            "  Batch   150  of    244.\n",
            "  Batch   200  of    244.\n",
            "\n",
            "Evaluating...\n",
            "  Batch    50  of     53.\n",
            "\n",
            "Training Loss: 0.388\n",
            "Validation Loss: 0.362\n",
            "\n",
            " Epoch 10 / 25\n",
            "  Batch    50  of    244.\n",
            "  Batch   100  of    244.\n",
            "  Batch   150  of    244.\n",
            "  Batch   200  of    244.\n",
            "\n",
            "Evaluating...\n",
            "  Batch    50  of     53.\n",
            "\n",
            "Training Loss: 0.387\n",
            "Validation Loss: 0.350\n",
            "\n",
            " Epoch 11 / 25\n",
            "  Batch    50  of    244.\n",
            "  Batch   100  of    244.\n",
            "  Batch   150  of    244.\n",
            "  Batch   200  of    244.\n",
            "\n",
            "Evaluating...\n",
            "  Batch    50  of     53.\n",
            "\n",
            "Training Loss: 0.369\n",
            "Validation Loss: 0.339\n",
            "\n",
            " Epoch 12 / 25\n",
            "  Batch    50  of    244.\n",
            "  Batch   100  of    244.\n",
            "  Batch   150  of    244.\n",
            "  Batch   200  of    244.\n",
            "\n",
            "Evaluating...\n",
            "  Batch    50  of     53.\n",
            "\n",
            "Training Loss: 0.351\n",
            "Validation Loss: 0.327\n",
            "\n",
            " Epoch 13 / 25\n",
            "  Batch    50  of    244.\n",
            "  Batch   100  of    244.\n",
            "  Batch   150  of    244.\n",
            "  Batch   200  of    244.\n",
            "\n",
            "Evaluating...\n",
            "  Batch    50  of     53.\n",
            "\n",
            "Training Loss: 0.351\n",
            "Validation Loss: 0.322\n",
            "\n",
            " Epoch 14 / 25\n",
            "  Batch    50  of    244.\n",
            "  Batch   100  of    244.\n",
            "  Batch   150  of    244.\n",
            "  Batch   200  of    244.\n",
            "\n",
            "Evaluating...\n",
            "  Batch    50  of     53.\n",
            "\n",
            "Training Loss: 0.330\n",
            "Validation Loss: 0.306\n",
            "\n",
            " Epoch 15 / 25\n",
            "  Batch    50  of    244.\n",
            "  Batch   100  of    244.\n",
            "  Batch   150  of    244.\n",
            "  Batch   200  of    244.\n",
            "\n",
            "Evaluating...\n",
            "  Batch    50  of     53.\n",
            "\n",
            "Training Loss: 0.320\n",
            "Validation Loss: 0.300\n",
            "\n",
            " Epoch 16 / 25\n",
            "  Batch    50  of    244.\n",
            "  Batch   100  of    244.\n",
            "  Batch   150  of    244.\n",
            "  Batch   200  of    244.\n",
            "\n",
            "Evaluating...\n",
            "  Batch    50  of     53.\n",
            "\n",
            "Training Loss: 0.316\n",
            "Validation Loss: 0.290\n",
            "\n",
            " Epoch 17 / 25\n",
            "  Batch    50  of    244.\n",
            "  Batch   100  of    244.\n",
            "  Batch   150  of    244.\n",
            "  Batch   200  of    244.\n",
            "\n",
            "Evaluating...\n",
            "  Batch    50  of     53.\n",
            "\n",
            "Training Loss: 0.304\n",
            "Validation Loss: 0.280\n",
            "\n",
            " Epoch 18 / 25\n",
            "  Batch    50  of    244.\n",
            "  Batch   100  of    244.\n",
            "  Batch   150  of    244.\n",
            "  Batch   200  of    244.\n",
            "\n",
            "Evaluating...\n",
            "  Batch    50  of     53.\n",
            "\n",
            "Training Loss: 0.301\n",
            "Validation Loss: 0.276\n",
            "\n",
            " Epoch 19 / 25\n",
            "  Batch    50  of    244.\n",
            "  Batch   100  of    244.\n",
            "  Batch   150  of    244.\n",
            "  Batch   200  of    244.\n",
            "\n",
            "Evaluating...\n",
            "  Batch    50  of     53.\n",
            "\n",
            "Training Loss: 0.293\n",
            "Validation Loss: 0.267\n",
            "\n",
            " Epoch 20 / 25\n",
            "  Batch    50  of    244.\n",
            "  Batch   100  of    244.\n",
            "  Batch   150  of    244.\n",
            "  Batch   200  of    244.\n",
            "\n",
            "Evaluating...\n",
            "  Batch    50  of     53.\n",
            "\n",
            "Training Loss: 0.289\n",
            "Validation Loss: 0.263\n",
            "\n",
            " Epoch 21 / 25\n",
            "  Batch    50  of    244.\n",
            "  Batch   100  of    244.\n",
            "  Batch   150  of    244.\n",
            "  Batch   200  of    244.\n",
            "\n",
            "Evaluating...\n",
            "  Batch    50  of     53.\n",
            "\n",
            "Training Loss: 0.267\n",
            "Validation Loss: 0.254\n",
            "\n",
            " Epoch 22 / 25\n",
            "  Batch    50  of    244.\n",
            "  Batch   100  of    244.\n",
            "  Batch   150  of    244.\n",
            "  Batch   200  of    244.\n",
            "\n",
            "Evaluating...\n",
            "  Batch    50  of     53.\n",
            "\n",
            "Training Loss: 0.265\n",
            "Validation Loss: 0.248\n",
            "\n",
            " Epoch 23 / 25\n",
            "  Batch    50  of    244.\n",
            "  Batch   100  of    244.\n",
            "  Batch   150  of    244.\n",
            "  Batch   200  of    244.\n",
            "\n",
            "Evaluating...\n",
            "  Batch    50  of     53.\n",
            "\n",
            "Training Loss: 0.261\n",
            "Validation Loss: 0.249\n",
            "\n",
            " Epoch 24 / 25\n",
            "  Batch    50  of    244.\n",
            "  Batch   100  of    244.\n",
            "  Batch   150  of    244.\n",
            "  Batch   200  of    244.\n",
            "\n",
            "Evaluating...\n",
            "  Batch    50  of     53.\n",
            "\n",
            "Training Loss: 0.260\n",
            "Validation Loss: 0.243\n",
            "\n",
            " Epoch 25 / 25\n",
            "  Batch    50  of    244.\n",
            "  Batch   100  of    244.\n",
            "  Batch   150  of    244.\n",
            "  Batch   200  of    244.\n",
            "\n",
            "Evaluating...\n",
            "  Batch    50  of     53.\n",
            "\n",
            "Training Loss: 0.246\n",
            "Validation Loss: 0.235\n"
          ]
        }
      ]
    },
    {
      "cell_type": "code",
      "source": [
        "#load weights of best model\n",
        "path = 'saved_weights.pt'\n",
        "model.load_state_dict(torch.load(path))"
      ],
      "metadata": {
        "execution": {
          "iopub.status.busy": "2021-05-20T12:24:47.832372Z",
          "iopub.execute_input": "2021-05-20T12:24:47.832686Z",
          "iopub.status.idle": "2021-05-20T12:24:48.147778Z",
          "shell.execute_reply.started": "2021-05-20T12:24:47.832657Z",
          "shell.execute_reply": "2021-05-20T12:24:48.147016Z"
        },
        "trusted": true,
        "id": "d1lPV9fPeyLi",
        "outputId": "0b168038-5cfa-4a0f-a4fb-4e9d6e192770",
        "colab": {
          "base_uri": "https://localhost:8080/"
        }
      },
      "execution_count": null,
      "outputs": [
        {
          "output_type": "execute_result",
          "data": {
            "text/plain": [
              "<All keys matched successfully>"
            ]
          },
          "metadata": {},
          "execution_count": 46
        }
      ]
    },
    {
      "cell_type": "markdown",
      "source": [
        "<h1>9. Получения предсказаний</h1>\n",
        "Применение модели"
      ],
      "metadata": {
        "id": "1DcWcD6SeyLi"
      }
    },
    {
      "cell_type": "code",
      "source": [
        "# Получение предсказаний для тестовых данных\n",
        "with torch.no_grad():\n",
        "    preds = model(test_seq.to(device), test_mask.to(device))\n",
        "    preds = preds.detach().cpu().numpy()"
      ],
      "metadata": {
        "execution": {
          "iopub.status.busy": "2021-05-20T12:25:07.435685Z",
          "iopub.execute_input": "2021-05-20T12:25:07.436008Z",
          "iopub.status.idle": "2021-05-20T12:25:08.019816Z",
          "shell.execute_reply.started": "2021-05-20T12:25:07.435979Z",
          "shell.execute_reply": "2021-05-20T12:25:08.018976Z"
        },
        "trusted": true,
        "id": "KjbCpYv5eyLi"
      },
      "execution_count": null,
      "outputs": []
    },
    {
      "cell_type": "code",
      "source": [
        "# model's performance\n",
        "preds = np.argmax(preds, axis = 1)\n",
        "print(classification_report(test_y, preds))"
      ],
      "metadata": {
        "execution": {
          "iopub.status.busy": "2021-05-20T12:25:23.838389Z",
          "iopub.execute_input": "2021-05-20T12:25:23.838719Z",
          "iopub.status.idle": "2021-05-20T12:25:23.852193Z",
          "shell.execute_reply.started": "2021-05-20T12:25:23.838691Z",
          "shell.execute_reply": "2021-05-20T12:25:23.850795Z"
        },
        "trusted": true,
        "id": "nIvJ3v85eyLi",
        "colab": {
          "base_uri": "https://localhost:8080/"
        },
        "outputId": "9ba5882e-5baa-4ed2-9f0f-38429005d299"
      },
      "execution_count": null,
      "outputs": [
        {
          "output_type": "stream",
          "name": "stdout",
          "text": [
            "              precision    recall  f1-score   support\n",
            "\n",
            "           0       0.98      0.94      0.96       724\n",
            "           1       0.71      0.90      0.79       112\n",
            "\n",
            "    accuracy                           0.94       836\n",
            "   macro avg       0.85      0.92      0.88       836\n",
            "weighted avg       0.95      0.94      0.94       836\n",
            "\n"
          ]
        }
      ]
    },
    {
      "cell_type": "markdown",
      "source": [
        "<center><h1>Полезные материалы</h1></center>"
      ],
      "metadata": {
        "id": "tnyxi-pWeyLi"
      }
    },
    {
      "cell_type": "markdown",
      "source": [
        "<ol>\n",
        "    <li style=\"font-size:150%;\"><a href=\"https://www.reddit.com/r/MachineLearning/comments/ao23cp/p_how_to_use_bert_in_kaggle_competitions_a/\">How to use BERT in Kaggle competitions - Reddit Thread</a></li>\n",
        "    <li style=\"font-size:150%;\"><a href=\"http://jalammar.github.io/a-visual-guide-to-using-bert-for-the-first-time/\">A visual guide to using BERT by Jay Alammar</a></li>\n",
        "    <li style=\"font-size:150%;\"><a href=\"https://www.analyticsvidhya.com/blog/2019/09/demystifying-bert-groundbreaking-nlp-framework/\">Demystifying BERT: Groundbreaking NLP Framework by Mohd Sanad Zaki Rizvi</a></li>\n",
        "    <li style=\"font-size:150%;\"><a href=\"https://towardsdatascience.com/bert-for-dummies-step-by-step-tutorial-fb90890ffe03\">BERT for Dummies step by step tutorial by Michel Kana</a></li>\n",
        "</ol>"
      ],
      "metadata": {
        "id": "6eTAEgtxeyLi"
      }
    },
    {
      "cell_type": "code",
      "source": [],
      "metadata": {
        "id": "kBmzFL-geyLj"
      },
      "execution_count": null,
      "outputs": []
    }
  ]
}